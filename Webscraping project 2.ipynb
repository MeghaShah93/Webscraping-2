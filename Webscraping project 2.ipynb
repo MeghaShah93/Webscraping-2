{
 "cells": [
  {
   "cell_type": "markdown",
   "id": "581eb9b9",
   "metadata": {},
   "source": [
    "* Question 1 - Python program to scrape data for “Data Analyst” Job position in “Bangalore” location’ "
   ]
  },
  {
   "cell_type": "code",
   "execution_count": 1,
   "id": "149b057d",
   "metadata": {},
   "outputs": [],
   "source": [
    "#import all required libraries \n",
    "import selenium\n",
    "from selenium import webdriver\n",
    "import pandas as pd\n",
    "import warnings\n",
    "warnings.filterwarnings(\"ignore\")"
   ]
  },
  {
   "cell_type": "code",
   "execution_count": 2,
   "id": "12262862",
   "metadata": {},
   "outputs": [],
   "source": [
    "#connect to wedriver\n",
    "driver=webdriver.Chrome('chromedriver.exe')"
   ]
  },
  {
   "cell_type": "code",
   "execution_count": 19,
   "id": "9baf58ad",
   "metadata": {},
   "outputs": [],
   "source": [
    "url='https://www.naukri.com/'\n",
    "driver.get(url)"
   ]
  },
  {
   "cell_type": "code",
   "execution_count": 4,
   "id": "1a8c2453",
   "metadata": {},
   "outputs": [],
   "source": [
    "#finding web element \n",
    "search_job = driver.find_element_by_xpath('/html/body/div/div[2]/div[3]/div/div/div[1]/div/div/div/input')\n",
    "search_job.send_keys('Data Analyst')"
   ]
  },
  {
   "cell_type": "code",
   "execution_count": 5,
   "id": "3c207c75",
   "metadata": {},
   "outputs": [],
   "source": [
    "search_job = driver.find_element_by_xpath('/html/body/div/div[2]/div[3]/div/div/div[3]/div/div/div/input')\n",
    "search_job.send_keys('Bangalore')"
   ]
  },
  {
   "cell_type": "code",
   "execution_count": 6,
   "id": "6bc237f9",
   "metadata": {},
   "outputs": [],
   "source": [
    "search_job = driver.find_element_by_xpath('/html/body/div/div[2]/div[3]/div/div/div[6]')\n",
    "search_job.click()"
   ]
  },
  {
   "cell_type": "code",
   "execution_count": 8,
   "id": "3e557e63",
   "metadata": {},
   "outputs": [
    {
     "data": {
      "text/plain": [
       "20"
      ]
     },
     "execution_count": 8,
     "metadata": {},
     "output_type": "execute_result"
    }
   ],
   "source": [
    "title_tags=driver.find_elements_by_xpath('//a[@class=\"title fw500 ellipsis\"]')\n",
    "len(title_tags)"
   ]
  },
  {
   "cell_type": "code",
   "execution_count": 9,
   "id": "6a734559",
   "metadata": {},
   "outputs": [
    {
     "data": {
      "text/plain": [
       "['Hiring Data Analyst For Global Logic-Immediate Joiner',\n",
       " 'Senior Data Analyst']"
      ]
     },
     "execution_count": 9,
     "metadata": {},
     "output_type": "execute_result"
    }
   ],
   "source": [
    "job_titles=[]\n",
    "for i in title_tags:\n",
    "    job_titles.append(i.text)\n",
    "len(job_titles)\n",
    "job_titles[0:2]"
   ]
  },
  {
   "cell_type": "code",
   "execution_count": 10,
   "id": "f443fe15",
   "metadata": {},
   "outputs": [
    {
     "data": {
      "text/plain": [
       "[<selenium.webdriver.remote.webelement.WebElement (session=\"e54672fbe2fa5fccc45f54e38f1d310a\", element=\"0c98f96e-047d-448a-8fbd-43c06e5f3d3c\")>,\n",
       " <selenium.webdriver.remote.webelement.WebElement (session=\"e54672fbe2fa5fccc45f54e38f1d310a\", element=\"3bd98b00-07ef-4e2e-8d4c-a8cb986bbb3f\")>]"
      ]
     },
     "execution_count": 10,
     "metadata": {},
     "output_type": "execute_result"
    }
   ],
   "source": [
    "company_tags=driver.find_elements_by_xpath('//a[@class=\"subTitle ellipsis fleft\"]')\n",
    "company_tags[0:2]"
   ]
  },
  {
   "cell_type": "code",
   "execution_count": 11,
   "id": "f8fe6b7a",
   "metadata": {},
   "outputs": [
    {
     "data": {
      "text/plain": [
       "['GlobalLogic', 'Flipkart']"
      ]
     },
     "execution_count": 11,
     "metadata": {},
     "output_type": "execute_result"
    }
   ],
   "source": [
    "company_name=[]\n",
    "for i in company_tags:\n",
    "    company_name.append(i.text)\n",
    "company_name[0:2]"
   ]
  },
  {
   "cell_type": "code",
   "execution_count": 12,
   "id": "4a3d9b3b",
   "metadata": {},
   "outputs": [
    {
     "data": {
      "text/plain": [
       "20"
      ]
     },
     "execution_count": 12,
     "metadata": {},
     "output_type": "execute_result"
    }
   ],
   "source": [
    "exp_tags=driver.find_elements_by_xpath('//li[@class=\"fleft grey-text br2 placeHolderLi experience\"]')\n",
    "len(exp_tags)"
   ]
  },
  {
   "cell_type": "code",
   "execution_count": 13,
   "id": "3c39412a",
   "metadata": {},
   "outputs": [
    {
     "data": {
      "text/plain": [
       "['4-8 Yrs', '4-6 Yrs']"
      ]
     },
     "execution_count": 13,
     "metadata": {},
     "output_type": "execute_result"
    }
   ],
   "source": [
    "experience=[]\n",
    "for i in exp_tags:\n",
    "    experience.append(i.text)\n",
    "experience[0:2]"
   ]
  },
  {
   "cell_type": "code",
   "execution_count": 14,
   "id": "a64c852d",
   "metadata": {},
   "outputs": [
    {
     "data": {
      "text/plain": [
       "20"
      ]
     },
     "execution_count": 14,
     "metadata": {},
     "output_type": "execute_result"
    }
   ],
   "source": [
    "locn_tags=driver.find_elements_by_xpath('//li[@class=\"fleft grey-text br2 placeHolderLi location\"]')\n",
    "len(locn_tags)"
   ]
  },
  {
   "cell_type": "code",
   "execution_count": 15,
   "id": "1e0dab57",
   "metadata": {},
   "outputs": [
    {
     "data": {
      "text/plain": [
       "['Noida, Nagpur, Pune, Gurgaon/Gurugram, Bangalore/Bengaluru\\n(WFH during Covid)',\n",
       " 'Bengaluru/Bangalore']"
      ]
     },
     "execution_count": 15,
     "metadata": {},
     "output_type": "execute_result"
    }
   ],
   "source": [
    "location=[]\n",
    "for i in locn_tags:\n",
    "    location.append(i.text)\n",
    "location[0:2]"
   ]
  },
  {
   "cell_type": "code",
   "execution_count": 16,
   "id": "375241d4",
   "metadata": {},
   "outputs": [
    {
     "data": {
      "text/html": [
       "<div>\n",
       "<style scoped>\n",
       "    .dataframe tbody tr th:only-of-type {\n",
       "        vertical-align: middle;\n",
       "    }\n",
       "\n",
       "    .dataframe tbody tr th {\n",
       "        vertical-align: top;\n",
       "    }\n",
       "\n",
       "    .dataframe thead th {\n",
       "        text-align: right;\n",
       "    }\n",
       "</style>\n",
       "<table border=\"1\" class=\"dataframe\">\n",
       "  <thead>\n",
       "    <tr style=\"text-align: right;\">\n",
       "      <th></th>\n",
       "      <th>Title</th>\n",
       "      <th>Company</th>\n",
       "      <th>Exp</th>\n",
       "      <th>Location</th>\n",
       "    </tr>\n",
       "  </thead>\n",
       "  <tbody>\n",
       "    <tr>\n",
       "      <th>0</th>\n",
       "      <td>Hiring Data Analyst For Global Logic-Immediate...</td>\n",
       "      <td>GlobalLogic</td>\n",
       "      <td>4-8 Yrs</td>\n",
       "      <td>Noida, Nagpur, Pune, Gurgaon/Gurugram, Bangalo...</td>\n",
       "    </tr>\n",
       "    <tr>\n",
       "      <th>1</th>\n",
       "      <td>Senior Data Analyst</td>\n",
       "      <td>Flipkart</td>\n",
       "      <td>4-6 Yrs</td>\n",
       "      <td>Bengaluru/Bangalore</td>\n",
       "    </tr>\n",
       "    <tr>\n",
       "      <th>2</th>\n",
       "      <td>Junior Data Analyst/ Scientist- Fresher Position</td>\n",
       "      <td>Sejal Consulting Hub</td>\n",
       "      <td>0-3 Yrs</td>\n",
       "      <td>Kolkata, Gurgaon/Gurugram, Bangalore/Bengaluru...</td>\n",
       "    </tr>\n",
       "    <tr>\n",
       "      <th>3</th>\n",
       "      <td>Assistant Clinical Data Analyst</td>\n",
       "      <td>Labcorp Drug Development India Private Limited</td>\n",
       "      <td>0-2 Yrs</td>\n",
       "      <td>Bangalore/Bengaluru</td>\n",
       "    </tr>\n",
       "    <tr>\n",
       "      <th>4</th>\n",
       "      <td>Lead - Data Analyst / Scientist</td>\n",
       "      <td>Axim Technologies</td>\n",
       "      <td>12-14 Yrs</td>\n",
       "      <td>Bangalore/Bengaluru</td>\n",
       "    </tr>\n",
       "    <tr>\n",
       "      <th>5</th>\n",
       "      <td>Data Analyst / Sr. Data Analyst</td>\n",
       "      <td>Vmware</td>\n",
       "      <td>3-6 Yrs</td>\n",
       "      <td>Bangalore/Bengaluru</td>\n",
       "    </tr>\n",
       "    <tr>\n",
       "      <th>6</th>\n",
       "      <td>Senior Data Analyst - CRM</td>\n",
       "      <td>Gojek Tech</td>\n",
       "      <td>2-5 Yrs</td>\n",
       "      <td>Bangalore/Bengaluru</td>\n",
       "    </tr>\n",
       "    <tr>\n",
       "      <th>7</th>\n",
       "      <td>Senior Data Analyst - Supporting Audits</td>\n",
       "      <td>Visa</td>\n",
       "      <td>5-8 Yrs</td>\n",
       "      <td>Bangalore/Bengaluru</td>\n",
       "    </tr>\n",
       "    <tr>\n",
       "      <th>8</th>\n",
       "      <td>Research - Data Analyst / Associate</td>\n",
       "      <td>AXL HR Tech</td>\n",
       "      <td>0-2 Yrs</td>\n",
       "      <td>Mumbai, Delhi / NCR, Bangalore/Bengaluru</td>\n",
       "    </tr>\n",
       "    <tr>\n",
       "      <th>9</th>\n",
       "      <td>Data Analyst 1</td>\n",
       "      <td>Optum Global Solutions (India) Private Limited</td>\n",
       "      <td>4-9 Yrs</td>\n",
       "      <td>Bangalore/Bengaluru</td>\n",
       "    </tr>\n",
       "    <tr>\n",
       "      <th>10</th>\n",
       "      <td>SAM Data Analyst</td>\n",
       "      <td>Nokia</td>\n",
       "      <td>1-2 Yrs</td>\n",
       "      <td>Noida, Mumbai, Bangalore/Bengaluru</td>\n",
       "    </tr>\n",
       "    <tr>\n",
       "      <th>11</th>\n",
       "      <td>Data Analyst</td>\n",
       "      <td>Zolostays Property Solutions Pvt. Ltd.</td>\n",
       "      <td>2-3 Yrs</td>\n",
       "      <td>Bangalore/Bengaluru</td>\n",
       "    </tr>\n",
       "    <tr>\n",
       "      <th>12</th>\n",
       "      <td>Data Analyst - CRM Platform</td>\n",
       "      <td>Artech infosystem</td>\n",
       "      <td>1-6 Yrs</td>\n",
       "      <td>Kolkata, Mumbai, Hyderabad/Secunderabad, Pune,...</td>\n",
       "    </tr>\n",
       "    <tr>\n",
       "      <th>13</th>\n",
       "      <td>Data Analyst</td>\n",
       "      <td>Flipkart</td>\n",
       "      <td>1-2 Yrs</td>\n",
       "      <td>Bengaluru/Bangalore</td>\n",
       "    </tr>\n",
       "    <tr>\n",
       "      <th>14</th>\n",
       "      <td>Consultant - Data Analyst</td>\n",
       "      <td>Flipkart</td>\n",
       "      <td>1-3 Yrs</td>\n",
       "      <td>Bengaluru/Bangalore</td>\n",
       "    </tr>\n",
       "    <tr>\n",
       "      <th>15</th>\n",
       "      <td>Hiring For Data Analyst</td>\n",
       "      <td>Flipkart</td>\n",
       "      <td>4-8 Yrs</td>\n",
       "      <td>Bangalore/Bengaluru</td>\n",
       "    </tr>\n",
       "    <tr>\n",
       "      <th>16</th>\n",
       "      <td>Business Analyst - Telecom Data Migration</td>\n",
       "      <td>NetCracker</td>\n",
       "      <td>9-14 Yrs</td>\n",
       "      <td>Pune, Gurgaon/Gurugram, Bangalore/Bengaluru</td>\n",
       "    </tr>\n",
       "    <tr>\n",
       "      <th>17</th>\n",
       "      <td>Senior Data Analyst</td>\n",
       "      <td>Walmart</td>\n",
       "      <td>4-7 Yrs</td>\n",
       "      <td>Bangalore/Bengaluru</td>\n",
       "    </tr>\n",
       "    <tr>\n",
       "      <th>18</th>\n",
       "      <td>Senior Data Analyst - CRM</td>\n",
       "      <td>GO-JEK India</td>\n",
       "      <td>4-8 Yrs</td>\n",
       "      <td>Bangalore/Bengaluru</td>\n",
       "    </tr>\n",
       "    <tr>\n",
       "      <th>19</th>\n",
       "      <td>Data Analyst</td>\n",
       "      <td>Snaphunt</td>\n",
       "      <td>0-2 Yrs</td>\n",
       "      <td>Bangalore/Bengaluru</td>\n",
       "    </tr>\n",
       "  </tbody>\n",
       "</table>\n",
       "</div>"
      ],
      "text/plain": [
       "                                                Title  \\\n",
       "0   Hiring Data Analyst For Global Logic-Immediate...   \n",
       "1                                 Senior Data Analyst   \n",
       "2    Junior Data Analyst/ Scientist- Fresher Position   \n",
       "3                     Assistant Clinical Data Analyst   \n",
       "4                     Lead - Data Analyst / Scientist   \n",
       "5                     Data Analyst / Sr. Data Analyst   \n",
       "6                           Senior Data Analyst - CRM   \n",
       "7             Senior Data Analyst - Supporting Audits   \n",
       "8                 Research - Data Analyst / Associate   \n",
       "9                                      Data Analyst 1   \n",
       "10                                   SAM Data Analyst   \n",
       "11                                       Data Analyst   \n",
       "12                        Data Analyst - CRM Platform   \n",
       "13                                       Data Analyst   \n",
       "14                          Consultant - Data Analyst   \n",
       "15                            Hiring For Data Analyst   \n",
       "16          Business Analyst - Telecom Data Migration   \n",
       "17                                Senior Data Analyst   \n",
       "18                          Senior Data Analyst - CRM   \n",
       "19                                       Data Analyst   \n",
       "\n",
       "                                           Company        Exp  \\\n",
       "0                                      GlobalLogic    4-8 Yrs   \n",
       "1                                         Flipkart    4-6 Yrs   \n",
       "2                             Sejal Consulting Hub    0-3 Yrs   \n",
       "3   Labcorp Drug Development India Private Limited    0-2 Yrs   \n",
       "4                                Axim Technologies  12-14 Yrs   \n",
       "5                                           Vmware    3-6 Yrs   \n",
       "6                                       Gojek Tech    2-5 Yrs   \n",
       "7                                             Visa    5-8 Yrs   \n",
       "8                                      AXL HR Tech    0-2 Yrs   \n",
       "9   Optum Global Solutions (India) Private Limited    4-9 Yrs   \n",
       "10                                           Nokia    1-2 Yrs   \n",
       "11          Zolostays Property Solutions Pvt. Ltd.    2-3 Yrs   \n",
       "12                               Artech infosystem    1-6 Yrs   \n",
       "13                                        Flipkart    1-2 Yrs   \n",
       "14                                        Flipkart    1-3 Yrs   \n",
       "15                                        Flipkart    4-8 Yrs   \n",
       "16                                      NetCracker   9-14 Yrs   \n",
       "17                                         Walmart    4-7 Yrs   \n",
       "18                                    GO-JEK India    4-8 Yrs   \n",
       "19                                        Snaphunt    0-2 Yrs   \n",
       "\n",
       "                                             Location  \n",
       "0   Noida, Nagpur, Pune, Gurgaon/Gurugram, Bangalo...  \n",
       "1                                 Bengaluru/Bangalore  \n",
       "2   Kolkata, Gurgaon/Gurugram, Bangalore/Bengaluru...  \n",
       "3                                 Bangalore/Bengaluru  \n",
       "4                                 Bangalore/Bengaluru  \n",
       "5                                 Bangalore/Bengaluru  \n",
       "6                                 Bangalore/Bengaluru  \n",
       "7                                 Bangalore/Bengaluru  \n",
       "8            Mumbai, Delhi / NCR, Bangalore/Bengaluru  \n",
       "9                                 Bangalore/Bengaluru  \n",
       "10                 Noida, Mumbai, Bangalore/Bengaluru  \n",
       "11                                Bangalore/Bengaluru  \n",
       "12  Kolkata, Mumbai, Hyderabad/Secunderabad, Pune,...  \n",
       "13                                Bengaluru/Bangalore  \n",
       "14                                Bengaluru/Bangalore  \n",
       "15                                Bangalore/Bengaluru  \n",
       "16        Pune, Gurgaon/Gurugram, Bangalore/Bengaluru  \n",
       "17                                Bangalore/Bengaluru  \n",
       "18                                Bangalore/Bengaluru  \n",
       "19                                Bangalore/Bengaluru  "
      ]
     },
     "execution_count": 16,
     "metadata": {},
     "output_type": "execute_result"
    }
   ],
   "source": [
    "jobs=pd.DataFrame()\n",
    "jobs['Title']=job_titles\n",
    "jobs['Company']=company_name\n",
    "jobs['Exp']=experience\n",
    "jobs['Location']=location\n",
    "jobs"
   ]
  },
  {
   "cell_type": "markdown",
   "id": "003740a4",
   "metadata": {},
   "source": [
    "* Question 2 - Python program to scrape data for “Data Scientist” Job position in “Bangalore” location’ "
   ]
  },
  {
   "cell_type": "code",
   "execution_count": 17,
   "id": "c2462e25",
   "metadata": {},
   "outputs": [],
   "source": [
    "url='https://www.naukri.com/'\n",
    "driver.get(url)"
   ]
  },
  {
   "cell_type": "code",
   "execution_count": 18,
   "id": "6623812a",
   "metadata": {},
   "outputs": [],
   "source": [
    "#finding web element \n",
    "search_job = driver.find_element_by_xpath('/html/body/div/div[2]/div[3]/div/div/div[1]/div/div/div/input')\n",
    "search_job.send_keys('Data Scientist')"
   ]
  },
  {
   "cell_type": "code",
   "execution_count": 19,
   "id": "f91cdf99",
   "metadata": {},
   "outputs": [],
   "source": [
    "search_job = driver.find_element_by_xpath('/html/body/div/div[2]/div[3]/div/div/div[3]/div/div/div/input')\n",
    "search_job.send_keys('Bangalore')"
   ]
  },
  {
   "cell_type": "code",
   "execution_count": 21,
   "id": "45f9ae3c",
   "metadata": {},
   "outputs": [],
   "source": [
    "search_job = driver.find_element_by_xpath('/html/body/div/div[2]/div[3]/div/div/div[6]')\n",
    "search_job.click()"
   ]
  },
  {
   "cell_type": "code",
   "execution_count": 22,
   "id": "5ebc7459",
   "metadata": {},
   "outputs": [
    {
     "data": {
      "text/plain": [
       "20"
      ]
     },
     "execution_count": 22,
     "metadata": {},
     "output_type": "execute_result"
    }
   ],
   "source": [
    "title_tags=driver.find_elements_by_xpath('//a[@class=\"title fw500 ellipsis\"]')\n",
    "len(title_tags)"
   ]
  },
  {
   "cell_type": "code",
   "execution_count": 23,
   "id": "34360686",
   "metadata": {},
   "outputs": [
    {
     "data": {
      "text/plain": [
       "['Data Scientist: Advanced Analytics', 'Data Scientist: Advanced Analytics']"
      ]
     },
     "execution_count": 23,
     "metadata": {},
     "output_type": "execute_result"
    }
   ],
   "source": [
    "job_titles=[]\n",
    "for i in title_tags:\n",
    "    job_titles.append(i.text)\n",
    "len(job_titles)\n",
    "job_titles[0:2]"
   ]
  },
  {
   "cell_type": "code",
   "execution_count": 24,
   "id": "e54a66fb",
   "metadata": {},
   "outputs": [
    {
     "data": {
      "text/plain": [
       "[<selenium.webdriver.remote.webelement.WebElement (session=\"e54672fbe2fa5fccc45f54e38f1d310a\", element=\"19aca2fc-b4aa-443e-9af5-be026741058e\")>,\n",
       " <selenium.webdriver.remote.webelement.WebElement (session=\"e54672fbe2fa5fccc45f54e38f1d310a\", element=\"69c39871-82eb-4e39-be0e-8329e080a1da\")>]"
      ]
     },
     "execution_count": 24,
     "metadata": {},
     "output_type": "execute_result"
    }
   ],
   "source": [
    "company_tags=driver.find_elements_by_xpath('//a[@class=\"subTitle ellipsis fleft\"]')\n",
    "company_tags[0:2]"
   ]
  },
  {
   "cell_type": "code",
   "execution_count": 25,
   "id": "69e2d816",
   "metadata": {},
   "outputs": [
    {
     "data": {
      "text/plain": [
       "['IBM', 'IBM']"
      ]
     },
     "execution_count": 25,
     "metadata": {},
     "output_type": "execute_result"
    }
   ],
   "source": [
    "company_name=[]\n",
    "for i in company_tags:\n",
    "    company_name.append(i.text)\n",
    "company_name[0:2]"
   ]
  },
  {
   "cell_type": "code",
   "execution_count": 26,
   "id": "3bb6a5b5",
   "metadata": {},
   "outputs": [
    {
     "data": {
      "text/plain": [
       "20"
      ]
     },
     "execution_count": 26,
     "metadata": {},
     "output_type": "execute_result"
    }
   ],
   "source": [
    "exp_tags=driver.find_elements_by_xpath('//li[@class=\"fleft grey-text br2 placeHolderLi experience\"]')\n",
    "len(exp_tags)"
   ]
  },
  {
   "cell_type": "code",
   "execution_count": 27,
   "id": "06773761",
   "metadata": {},
   "outputs": [
    {
     "data": {
      "text/plain": [
       "['5-10 Yrs', '5-7 Yrs']"
      ]
     },
     "execution_count": 27,
     "metadata": {},
     "output_type": "execute_result"
    }
   ],
   "source": [
    "experience=[]\n",
    "for i in exp_tags:\n",
    "    experience.append(i.text)\n",
    "experience[0:2]"
   ]
  },
  {
   "cell_type": "code",
   "execution_count": 28,
   "id": "f633f134",
   "metadata": {},
   "outputs": [
    {
     "data": {
      "text/plain": [
       "20"
      ]
     },
     "execution_count": 28,
     "metadata": {},
     "output_type": "execute_result"
    }
   ],
   "source": [
    "locn_tags=driver.find_elements_by_xpath('//li[@class=\"fleft grey-text br2 placeHolderLi location\"]')\n",
    "len(locn_tags)"
   ]
  },
  {
   "cell_type": "code",
   "execution_count": 29,
   "id": "9dc52aca",
   "metadata": {},
   "outputs": [
    {
     "data": {
      "text/plain": [
       "['Bangalore/Bengaluru', 'Bengaluru/Bangalore']"
      ]
     },
     "execution_count": 29,
     "metadata": {},
     "output_type": "execute_result"
    }
   ],
   "source": [
    "location=[]\n",
    "for i in locn_tags:\n",
    "    location.append(i.text)\n",
    "location[0:2]"
   ]
  },
  {
   "cell_type": "code",
   "execution_count": 48,
   "id": "40c6813c",
   "metadata": {},
   "outputs": [
    {
     "data": {
      "text/html": [
       "<div>\n",
       "<style scoped>\n",
       "    .dataframe tbody tr th:only-of-type {\n",
       "        vertical-align: middle;\n",
       "    }\n",
       "\n",
       "    .dataframe tbody tr th {\n",
       "        vertical-align: top;\n",
       "    }\n",
       "\n",
       "    .dataframe thead th {\n",
       "        text-align: right;\n",
       "    }\n",
       "</style>\n",
       "<table border=\"1\" class=\"dataframe\">\n",
       "  <thead>\n",
       "    <tr style=\"text-align: right;\">\n",
       "      <th></th>\n",
       "      <th>Title</th>\n",
       "      <th>Company</th>\n",
       "      <th>Exp</th>\n",
       "      <th>Location</th>\n",
       "    </tr>\n",
       "  </thead>\n",
       "  <tbody>\n",
       "    <tr>\n",
       "      <th>0</th>\n",
       "      <td>Data Scientist / Senior DS/ Team Lead</td>\n",
       "      <td>NebulARC Technologies Private Limited</td>\n",
       "      <td>0-4 Yrs</td>\n",
       "      <td>Mumbai, Gurgaon/Gurugram(Cyber City +1)</td>\n",
       "    </tr>\n",
       "    <tr>\n",
       "      <th>1</th>\n",
       "      <td>Job Opportunity || Data Scientist || HCL Techn...</td>\n",
       "      <td>HCL</td>\n",
       "      <td>2-6 Yrs</td>\n",
       "      <td>Delhi / NCR</td>\n",
       "    </tr>\n",
       "    <tr>\n",
       "      <th>2</th>\n",
       "      <td>Hiring For Data Analyst / Data Scientist</td>\n",
       "      <td>Careerera</td>\n",
       "      <td>2-5 Yrs</td>\n",
       "      <td>Noida(Sector-59 Noida)</td>\n",
       "    </tr>\n",
       "    <tr>\n",
       "      <th>3</th>\n",
       "      <td>Senior Data Scientist I</td>\n",
       "      <td>Delhivery</td>\n",
       "      <td>3-7 Yrs</td>\n",
       "      <td>Gurgaon/Gurugram</td>\n",
       "    </tr>\n",
       "    <tr>\n",
       "      <th>4</th>\n",
       "      <td>Data Scientist</td>\n",
       "      <td>Core Diagnostics Private Limited</td>\n",
       "      <td>2-7 Yrs</td>\n",
       "      <td>Gurgaon/Gurugram(Uday Nagar)</td>\n",
       "    </tr>\n",
       "    <tr>\n",
       "      <th>5</th>\n",
       "      <td>Data Scientist | Python | Machine Learning | D...</td>\n",
       "      <td>Schlesinger Group</td>\n",
       "      <td>0-3 Yrs</td>\n",
       "      <td>Noida, Gurgaon/Gurugram, Delhi / NCR</td>\n",
       "    </tr>\n",
       "    <tr>\n",
       "      <th>6</th>\n",
       "      <td>Openings For Jr/mid/Sr level data Scientists</td>\n",
       "      <td>Pluto seven business solutions (p) limited</td>\n",
       "      <td>2-6 Yrs</td>\n",
       "      <td>Kolkata, Hyderabad/Secunderabad, Pune, Ahmedab...</td>\n",
       "    </tr>\n",
       "    <tr>\n",
       "      <th>7</th>\n",
       "      <td>Data Scientist</td>\n",
       "      <td>T &amp; A Solutions</td>\n",
       "      <td>2-6 Yrs</td>\n",
       "      <td>Gurgaon/Gurugram</td>\n",
       "    </tr>\n",
       "    <tr>\n",
       "      <th>8</th>\n",
       "      <td>Urgent Hiring For Data Scientist</td>\n",
       "      <td>Mount Talent Consulting Private Limited</td>\n",
       "      <td>1-6 Yrs</td>\n",
       "      <td>Gurgaon/Gurugram, Bangalore/Bengaluru</td>\n",
       "    </tr>\n",
       "    <tr>\n",
       "      <th>9</th>\n",
       "      <td>Urgent Hiring For Data Scientist</td>\n",
       "      <td>Mount Talent Consulting Private Limited</td>\n",
       "      <td>1-6 Yrs</td>\n",
       "      <td>Gurgaon/Gurugram, Bangalore/Bengaluru</td>\n",
       "    </tr>\n",
       "    <tr>\n",
       "      <th>10</th>\n",
       "      <td>Data Scientist role</td>\n",
       "      <td>Mount Talent Consulting Private Limited</td>\n",
       "      <td>1-4 Yrs</td>\n",
       "      <td>Noida, Hyderabad/Secunderabad, Pune, Gurgaon/G...</td>\n",
       "    </tr>\n",
       "    <tr>\n",
       "      <th>11</th>\n",
       "      <td>Data Scientist role</td>\n",
       "      <td>Mount Talent Consulting Private Limited</td>\n",
       "      <td>1-3 Yrs</td>\n",
       "      <td>Noida, Hyderabad/Secunderabad, Pune, Gurgaon/G...</td>\n",
       "    </tr>\n",
       "    <tr>\n",
       "      <th>12</th>\n",
       "      <td>Data Scientist role</td>\n",
       "      <td>Mount Talent Consulting Private Limited</td>\n",
       "      <td>1-3 Yrs</td>\n",
       "      <td>Noida, Hyderabad/Secunderabad, Pune, Gurgaon/G...</td>\n",
       "    </tr>\n",
       "    <tr>\n",
       "      <th>13</th>\n",
       "      <td>Data Scientist Internship</td>\n",
       "      <td>iHackers Inc</td>\n",
       "      <td>0-1 Yrs</td>\n",
       "      <td>New Delhi</td>\n",
       "    </tr>\n",
       "    <tr>\n",
       "      <th>14</th>\n",
       "      <td>Data Scientist</td>\n",
       "      <td>Teleperformance</td>\n",
       "      <td>4-9 Yrs</td>\n",
       "      <td>Gurgaon/Gurugram, Chennai</td>\n",
       "    </tr>\n",
       "    <tr>\n",
       "      <th>15</th>\n",
       "      <td>Data Analyst / Data Scientist / Business Analy...</td>\n",
       "      <td>GABA Consultancy services</td>\n",
       "      <td>0-0 Yrs</td>\n",
       "      <td>Noida, New Delhi, Delhi / NCR</td>\n",
       "    </tr>\n",
       "    <tr>\n",
       "      <th>16</th>\n",
       "      <td>Data Scientist</td>\n",
       "      <td>Boston Consulting Group</td>\n",
       "      <td>2-5 Yrs</td>\n",
       "      <td>New Delhi</td>\n",
       "    </tr>\n",
       "    <tr>\n",
       "      <th>17</th>\n",
       "      <td>Senior Data Scientist</td>\n",
       "      <td>iNICU</td>\n",
       "      <td>1-5 Yrs</td>\n",
       "      <td>Delhi</td>\n",
       "    </tr>\n",
       "    <tr>\n",
       "      <th>18</th>\n",
       "      <td>Data Scientist</td>\n",
       "      <td>Sentieo</td>\n",
       "      <td>2-7 Yrs</td>\n",
       "      <td>Delhi</td>\n",
       "    </tr>\n",
       "    <tr>\n",
       "      <th>19</th>\n",
       "      <td>Data Scientist</td>\n",
       "      <td>BlackBuck</td>\n",
       "      <td>3-7 Yrs</td>\n",
       "      <td>Gurgaon, Bengaluru</td>\n",
       "    </tr>\n",
       "  </tbody>\n",
       "</table>\n",
       "</div>"
      ],
      "text/plain": [
       "                                                Title  \\\n",
       "0               Data Scientist / Senior DS/ Team Lead   \n",
       "1   Job Opportunity || Data Scientist || HCL Techn...   \n",
       "2            Hiring For Data Analyst / Data Scientist   \n",
       "3                             Senior Data Scientist I   \n",
       "4                                      Data Scientist   \n",
       "5   Data Scientist | Python | Machine Learning | D...   \n",
       "6        Openings For Jr/mid/Sr level data Scientists   \n",
       "7                                      Data Scientist   \n",
       "8                    Urgent Hiring For Data Scientist   \n",
       "9                    Urgent Hiring For Data Scientist   \n",
       "10                                Data Scientist role   \n",
       "11                                Data Scientist role   \n",
       "12                                Data Scientist role   \n",
       "13                          Data Scientist Internship   \n",
       "14                                     Data Scientist   \n",
       "15  Data Analyst / Data Scientist / Business Analy...   \n",
       "16                                     Data Scientist   \n",
       "17                              Senior Data Scientist   \n",
       "18                                     Data Scientist   \n",
       "19                                     Data Scientist   \n",
       "\n",
       "                                       Company      Exp  \\\n",
       "0        NebulARC Technologies Private Limited  0-4 Yrs   \n",
       "1                                          HCL  2-6 Yrs   \n",
       "2                                    Careerera  2-5 Yrs   \n",
       "3                                    Delhivery  3-7 Yrs   \n",
       "4             Core Diagnostics Private Limited  2-7 Yrs   \n",
       "5                            Schlesinger Group  0-3 Yrs   \n",
       "6   Pluto seven business solutions (p) limited  2-6 Yrs   \n",
       "7                              T & A Solutions  2-6 Yrs   \n",
       "8      Mount Talent Consulting Private Limited  1-6 Yrs   \n",
       "9      Mount Talent Consulting Private Limited  1-6 Yrs   \n",
       "10     Mount Talent Consulting Private Limited  1-4 Yrs   \n",
       "11     Mount Talent Consulting Private Limited  1-3 Yrs   \n",
       "12     Mount Talent Consulting Private Limited  1-3 Yrs   \n",
       "13                                iHackers Inc  0-1 Yrs   \n",
       "14                             Teleperformance  4-9 Yrs   \n",
       "15                   GABA Consultancy services  0-0 Yrs   \n",
       "16                     Boston Consulting Group  2-5 Yrs   \n",
       "17                                       iNICU  1-5 Yrs   \n",
       "18                                     Sentieo  2-7 Yrs   \n",
       "19                                   BlackBuck  3-7 Yrs   \n",
       "\n",
       "                                             Location  \n",
       "0             Mumbai, Gurgaon/Gurugram(Cyber City +1)  \n",
       "1                                         Delhi / NCR  \n",
       "2                              Noida(Sector-59 Noida)  \n",
       "3                                    Gurgaon/Gurugram  \n",
       "4                        Gurgaon/Gurugram(Uday Nagar)  \n",
       "5                Noida, Gurgaon/Gurugram, Delhi / NCR  \n",
       "6   Kolkata, Hyderabad/Secunderabad, Pune, Ahmedab...  \n",
       "7                                    Gurgaon/Gurugram  \n",
       "8               Gurgaon/Gurugram, Bangalore/Bengaluru  \n",
       "9               Gurgaon/Gurugram, Bangalore/Bengaluru  \n",
       "10  Noida, Hyderabad/Secunderabad, Pune, Gurgaon/G...  \n",
       "11  Noida, Hyderabad/Secunderabad, Pune, Gurgaon/G...  \n",
       "12  Noida, Hyderabad/Secunderabad, Pune, Gurgaon/G...  \n",
       "13                                          New Delhi  \n",
       "14                          Gurgaon/Gurugram, Chennai  \n",
       "15                      Noida, New Delhi, Delhi / NCR  \n",
       "16                                          New Delhi  \n",
       "17                                              Delhi  \n",
       "18                                              Delhi  \n",
       "19                                 Gurgaon, Bengaluru  "
      ]
     },
     "execution_count": 48,
     "metadata": {},
     "output_type": "execute_result"
    }
   ],
   "source": [
    "jobs=pd.DataFrame()\n",
    "jobs['Title']=job_titles\n",
    "jobs['Company']=company_name\n",
    "jobs['Exp']=experience\n",
    "jobs['Location']=location\n",
    "jobs"
   ]
  },
  {
   "cell_type": "markdown",
   "id": "72adfb18",
   "metadata": {},
   "source": [
    "* Question 3"
   ]
  },
  {
   "cell_type": "code",
   "execution_count": 30,
   "id": "56e0e3e4",
   "metadata": {},
   "outputs": [],
   "source": [
    "url='https://www.naukri.com/'\n",
    "driver.get(url)"
   ]
  },
  {
   "cell_type": "code",
   "execution_count": 31,
   "id": "6d249df8",
   "metadata": {},
   "outputs": [],
   "source": [
    "#finding web element \n",
    "search_job = driver.find_element_by_xpath('/html/body/div/div[2]/div[3]/div/div/div[1]/div/div/div/input')\n",
    "search_job.send_keys('Data Scientist')"
   ]
  },
  {
   "cell_type": "code",
   "execution_count": 32,
   "id": "fd6d8644",
   "metadata": {},
   "outputs": [],
   "source": [
    "search_job = driver.find_element_by_xpath('/html/body/div/div[2]/div[3]/div/div/div[6]')\n",
    "search_job.click()"
   ]
  },
  {
   "cell_type": "code",
   "execution_count": 35,
   "id": "7c03648a",
   "metadata": {},
   "outputs": [],
   "source": [
    "salary_check=driver.find_element_by_xpath('/html/body/div[1]/div[3]/div[2]/section[1]/div[2]/div[1]/div[2]/div[2]/label/i')"
   ]
  },
  {
   "cell_type": "code",
   "execution_count": 36,
   "id": "f8ea7732",
   "metadata": {},
   "outputs": [],
   "source": [
    "salary_check.click()"
   ]
  },
  {
   "cell_type": "code",
   "execution_count": 38,
   "id": "af818874",
   "metadata": {},
   "outputs": [],
   "source": [
    "location_check=driver.find_element_by_xpath('/html/body/div[1]/div[3]/div[2]/section[1]/div[2]/div[4]/div[2]/div[3]/label/i')"
   ]
  },
  {
   "cell_type": "code",
   "execution_count": 39,
   "id": "c8b7693a",
   "metadata": {},
   "outputs": [],
   "source": [
    "location_check.click()"
   ]
  },
  {
   "cell_type": "code",
   "execution_count": 40,
   "id": "29874a8c",
   "metadata": {},
   "outputs": [
    {
     "data": {
      "text/plain": [
       "[<selenium.webdriver.remote.webelement.WebElement (session=\"e54672fbe2fa5fccc45f54e38f1d310a\", element=\"9177320f-16b1-4937-a076-544f075d30a1\")>,\n",
       " <selenium.webdriver.remote.webelement.WebElement (session=\"e54672fbe2fa5fccc45f54e38f1d310a\", element=\"323287a0-9d39-4ad0-8a74-3835d2f2cd12\")>]"
      ]
     },
     "execution_count": 40,
     "metadata": {},
     "output_type": "execute_result"
    }
   ],
   "source": [
    "title_tags=driver.find_elements_by_xpath('//a[@class=\"title fw500 ellipsis\"]')\n",
    "len(title_tags)\n",
    "title_tags[0:2]"
   ]
  },
  {
   "cell_type": "code",
   "execution_count": 41,
   "id": "b511a5a0",
   "metadata": {},
   "outputs": [
    {
     "data": {
      "text/plain": [
       "['Data Scientist / Senior DS/ Team Lead',\n",
       " 'Job Opportunity || Data Scientist || HCL Technologies']"
      ]
     },
     "execution_count": 41,
     "metadata": {},
     "output_type": "execute_result"
    }
   ],
   "source": [
    "job_titles=[]\n",
    "for i in title_tags:\n",
    "    job_titles.append(i.text)\n",
    "len(job_titles)\n",
    "job_titles[0:2]"
   ]
  },
  {
   "cell_type": "code",
   "execution_count": 42,
   "id": "07111111",
   "metadata": {},
   "outputs": [
    {
     "data": {
      "text/plain": [
       "[<selenium.webdriver.remote.webelement.WebElement (session=\"e54672fbe2fa5fccc45f54e38f1d310a\", element=\"197f404c-7215-47a5-8c27-3c0d7be26d2d\")>,\n",
       " <selenium.webdriver.remote.webelement.WebElement (session=\"e54672fbe2fa5fccc45f54e38f1d310a\", element=\"aba428a7-2728-44ec-9d52-6da9c63e26ac\")>]"
      ]
     },
     "execution_count": 42,
     "metadata": {},
     "output_type": "execute_result"
    }
   ],
   "source": [
    "company_tags=driver.find_elements_by_xpath('//a[@class=\"subTitle ellipsis fleft\"]')\n",
    "company_tags[0:2]"
   ]
  },
  {
   "cell_type": "code",
   "execution_count": 43,
   "id": "e11076b1",
   "metadata": {},
   "outputs": [
    {
     "data": {
      "text/plain": [
       "['NebulARC Technologies Private Limited', 'HCL']"
      ]
     },
     "execution_count": 43,
     "metadata": {},
     "output_type": "execute_result"
    }
   ],
   "source": [
    "company_name=[]\n",
    "for i in company_tags:\n",
    "    company_name.append(i.text)\n",
    "company_name[0:2]"
   ]
  },
  {
   "cell_type": "code",
   "execution_count": 44,
   "id": "45744000",
   "metadata": {},
   "outputs": [
    {
     "data": {
      "text/plain": [
       "20"
      ]
     },
     "execution_count": 44,
     "metadata": {},
     "output_type": "execute_result"
    }
   ],
   "source": [
    "exp_tags=driver.find_elements_by_xpath('//li[@class=\"fleft grey-text br2 placeHolderLi experience\"]')\n",
    "len(exp_tags)"
   ]
  },
  {
   "cell_type": "code",
   "execution_count": 45,
   "id": "12e81979",
   "metadata": {},
   "outputs": [
    {
     "data": {
      "text/plain": [
       "['0-4 Yrs', '2-6 Yrs']"
      ]
     },
     "execution_count": 45,
     "metadata": {},
     "output_type": "execute_result"
    }
   ],
   "source": [
    "experience=[]\n",
    "for i in exp_tags:\n",
    "    experience.append(i.text)\n",
    "experience[0:2]"
   ]
  },
  {
   "cell_type": "code",
   "execution_count": 46,
   "id": "3960990e",
   "metadata": {},
   "outputs": [
    {
     "data": {
      "text/plain": [
       "20"
      ]
     },
     "execution_count": 46,
     "metadata": {},
     "output_type": "execute_result"
    }
   ],
   "source": [
    "locn_tags=driver.find_elements_by_xpath('//li[@class=\"fleft grey-text br2 placeHolderLi location\"]')\n",
    "len(locn_tags)"
   ]
  },
  {
   "cell_type": "code",
   "execution_count": 47,
   "id": "5300ebdb",
   "metadata": {},
   "outputs": [
    {
     "data": {
      "text/plain": [
       "['Mumbai, Gurgaon/Gurugram(Cyber City +1)', 'Delhi / NCR']"
      ]
     },
     "execution_count": 47,
     "metadata": {},
     "output_type": "execute_result"
    }
   ],
   "source": [
    "location=[]\n",
    "for i in locn_tags:\n",
    "    location.append(i.text)\n",
    "location[0:2]"
   ]
  },
  {
   "cell_type": "code",
   "execution_count": 69,
   "id": "c6bd12e5",
   "metadata": {},
   "outputs": [
    {
     "data": {
      "text/html": [
       "<div>\n",
       "<style scoped>\n",
       "    .dataframe tbody tr th:only-of-type {\n",
       "        vertical-align: middle;\n",
       "    }\n",
       "\n",
       "    .dataframe tbody tr th {\n",
       "        vertical-align: top;\n",
       "    }\n",
       "\n",
       "    .dataframe thead th {\n",
       "        text-align: right;\n",
       "    }\n",
       "</style>\n",
       "<table border=\"1\" class=\"dataframe\">\n",
       "  <thead>\n",
       "    <tr style=\"text-align: right;\">\n",
       "      <th></th>\n",
       "      <th>Title</th>\n",
       "      <th>Location</th>\n",
       "      <th>Company</th>\n",
       "      <th>Exp</th>\n",
       "    </tr>\n",
       "  </thead>\n",
       "  <tbody>\n",
       "    <tr>\n",
       "      <th>0</th>\n",
       "      <td>Data Scientist / Senior DS/ Team Lead</td>\n",
       "      <td>Mumbai, Gurgaon/Gurugram(Cyber City +1)</td>\n",
       "      <td>NebulARC Technologies Private Limited</td>\n",
       "      <td>0-4 Yrs</td>\n",
       "    </tr>\n",
       "    <tr>\n",
       "      <th>1</th>\n",
       "      <td>Job Opportunity || Data Scientist || HCL Techn...</td>\n",
       "      <td>Delhi / NCR</td>\n",
       "      <td>HCL</td>\n",
       "      <td>2-6 Yrs</td>\n",
       "    </tr>\n",
       "    <tr>\n",
       "      <th>2</th>\n",
       "      <td>Hiring For Data Analyst / Data Scientist</td>\n",
       "      <td>Noida(Sector-59 Noida)</td>\n",
       "      <td>Careerera</td>\n",
       "      <td>2-5 Yrs</td>\n",
       "    </tr>\n",
       "    <tr>\n",
       "      <th>3</th>\n",
       "      <td>Senior Data Scientist I</td>\n",
       "      <td>Gurgaon/Gurugram</td>\n",
       "      <td>Delhivery</td>\n",
       "      <td>3-7 Yrs</td>\n",
       "    </tr>\n",
       "    <tr>\n",
       "      <th>4</th>\n",
       "      <td>Data Scientist</td>\n",
       "      <td>Gurgaon/Gurugram(Uday Nagar)</td>\n",
       "      <td>Core Diagnostics Private Limited</td>\n",
       "      <td>2-7 Yrs</td>\n",
       "    </tr>\n",
       "    <tr>\n",
       "      <th>5</th>\n",
       "      <td>Data Scientist | Python | Machine Learning | D...</td>\n",
       "      <td>Noida, Gurgaon/Gurugram, Delhi / NCR</td>\n",
       "      <td>Schlesinger Group</td>\n",
       "      <td>0-3 Yrs</td>\n",
       "    </tr>\n",
       "    <tr>\n",
       "      <th>6</th>\n",
       "      <td>Openings For Jr/mid/Sr level data Scientists</td>\n",
       "      <td>Kolkata, Hyderabad/Secunderabad, Pune, Ahmedab...</td>\n",
       "      <td>Pluto seven business solutions (p) limited</td>\n",
       "      <td>2-6 Yrs</td>\n",
       "    </tr>\n",
       "    <tr>\n",
       "      <th>7</th>\n",
       "      <td>Data Scientist</td>\n",
       "      <td>Gurgaon/Gurugram</td>\n",
       "      <td>T &amp; A Solutions</td>\n",
       "      <td>2-6 Yrs</td>\n",
       "    </tr>\n",
       "    <tr>\n",
       "      <th>8</th>\n",
       "      <td>Urgent Hiring For Data Scientist</td>\n",
       "      <td>Gurgaon/Gurugram, Bangalore/Bengaluru</td>\n",
       "      <td>Mount Talent Consulting Private Limited</td>\n",
       "      <td>1-6 Yrs</td>\n",
       "    </tr>\n",
       "    <tr>\n",
       "      <th>9</th>\n",
       "      <td>Urgent Hiring For Data Scientist</td>\n",
       "      <td>Gurgaon/Gurugram, Bangalore/Bengaluru</td>\n",
       "      <td>Mount Talent Consulting Private Limited</td>\n",
       "      <td>1-6 Yrs</td>\n",
       "    </tr>\n",
       "    <tr>\n",
       "      <th>10</th>\n",
       "      <td>Data Scientist role</td>\n",
       "      <td>Noida, Hyderabad/Secunderabad, Pune, Gurgaon/G...</td>\n",
       "      <td>Mount Talent Consulting Private Limited</td>\n",
       "      <td>1-4 Yrs</td>\n",
       "    </tr>\n",
       "    <tr>\n",
       "      <th>11</th>\n",
       "      <td>Data Scientist role</td>\n",
       "      <td>Noida, Hyderabad/Secunderabad, Pune, Gurgaon/G...</td>\n",
       "      <td>Mount Talent Consulting Private Limited</td>\n",
       "      <td>1-3 Yrs</td>\n",
       "    </tr>\n",
       "    <tr>\n",
       "      <th>12</th>\n",
       "      <td>Data Scientist role</td>\n",
       "      <td>Noida, Hyderabad/Secunderabad, Pune, Gurgaon/G...</td>\n",
       "      <td>Mount Talent Consulting Private Limited</td>\n",
       "      <td>1-3 Yrs</td>\n",
       "    </tr>\n",
       "    <tr>\n",
       "      <th>13</th>\n",
       "      <td>Data Scientist Internship</td>\n",
       "      <td>New Delhi</td>\n",
       "      <td>iHackers Inc</td>\n",
       "      <td>0-1 Yrs</td>\n",
       "    </tr>\n",
       "    <tr>\n",
       "      <th>14</th>\n",
       "      <td>Data Scientist</td>\n",
       "      <td>Gurgaon/Gurugram, Chennai</td>\n",
       "      <td>Teleperformance</td>\n",
       "      <td>4-9 Yrs</td>\n",
       "    </tr>\n",
       "    <tr>\n",
       "      <th>15</th>\n",
       "      <td>Data Analyst / Data Scientist / Business Analy...</td>\n",
       "      <td>Noida, New Delhi, Delhi / NCR</td>\n",
       "      <td>GABA Consultancy services</td>\n",
       "      <td>0-0 Yrs</td>\n",
       "    </tr>\n",
       "    <tr>\n",
       "      <th>16</th>\n",
       "      <td>Data Scientist</td>\n",
       "      <td>New Delhi</td>\n",
       "      <td>Boston Consulting Group</td>\n",
       "      <td>2-5 Yrs</td>\n",
       "    </tr>\n",
       "    <tr>\n",
       "      <th>17</th>\n",
       "      <td>Senior Data Scientist</td>\n",
       "      <td>Delhi</td>\n",
       "      <td>iNICU</td>\n",
       "      <td>1-5 Yrs</td>\n",
       "    </tr>\n",
       "    <tr>\n",
       "      <th>18</th>\n",
       "      <td>Data Scientist</td>\n",
       "      <td>Delhi</td>\n",
       "      <td>Sentieo</td>\n",
       "      <td>2-7 Yrs</td>\n",
       "    </tr>\n",
       "    <tr>\n",
       "      <th>19</th>\n",
       "      <td>Data Scientist</td>\n",
       "      <td>Gurgaon, Bengaluru</td>\n",
       "      <td>BlackBuck</td>\n",
       "      <td>3-7 Yrs</td>\n",
       "    </tr>\n",
       "  </tbody>\n",
       "</table>\n",
       "</div>"
      ],
      "text/plain": [
       "                                                Title  \\\n",
       "0               Data Scientist / Senior DS/ Team Lead   \n",
       "1   Job Opportunity || Data Scientist || HCL Techn...   \n",
       "2            Hiring For Data Analyst / Data Scientist   \n",
       "3                             Senior Data Scientist I   \n",
       "4                                      Data Scientist   \n",
       "5   Data Scientist | Python | Machine Learning | D...   \n",
       "6        Openings For Jr/mid/Sr level data Scientists   \n",
       "7                                      Data Scientist   \n",
       "8                    Urgent Hiring For Data Scientist   \n",
       "9                    Urgent Hiring For Data Scientist   \n",
       "10                                Data Scientist role   \n",
       "11                                Data Scientist role   \n",
       "12                                Data Scientist role   \n",
       "13                          Data Scientist Internship   \n",
       "14                                     Data Scientist   \n",
       "15  Data Analyst / Data Scientist / Business Analy...   \n",
       "16                                     Data Scientist   \n",
       "17                              Senior Data Scientist   \n",
       "18                                     Data Scientist   \n",
       "19                                     Data Scientist   \n",
       "\n",
       "                                             Location  \\\n",
       "0             Mumbai, Gurgaon/Gurugram(Cyber City +1)   \n",
       "1                                         Delhi / NCR   \n",
       "2                              Noida(Sector-59 Noida)   \n",
       "3                                    Gurgaon/Gurugram   \n",
       "4                        Gurgaon/Gurugram(Uday Nagar)   \n",
       "5                Noida, Gurgaon/Gurugram, Delhi / NCR   \n",
       "6   Kolkata, Hyderabad/Secunderabad, Pune, Ahmedab...   \n",
       "7                                    Gurgaon/Gurugram   \n",
       "8               Gurgaon/Gurugram, Bangalore/Bengaluru   \n",
       "9               Gurgaon/Gurugram, Bangalore/Bengaluru   \n",
       "10  Noida, Hyderabad/Secunderabad, Pune, Gurgaon/G...   \n",
       "11  Noida, Hyderabad/Secunderabad, Pune, Gurgaon/G...   \n",
       "12  Noida, Hyderabad/Secunderabad, Pune, Gurgaon/G...   \n",
       "13                                          New Delhi   \n",
       "14                          Gurgaon/Gurugram, Chennai   \n",
       "15                      Noida, New Delhi, Delhi / NCR   \n",
       "16                                          New Delhi   \n",
       "17                                              Delhi   \n",
       "18                                              Delhi   \n",
       "19                                 Gurgaon, Bengaluru   \n",
       "\n",
       "                                       Company      Exp  \n",
       "0        NebulARC Technologies Private Limited  0-4 Yrs  \n",
       "1                                          HCL  2-6 Yrs  \n",
       "2                                    Careerera  2-5 Yrs  \n",
       "3                                    Delhivery  3-7 Yrs  \n",
       "4             Core Diagnostics Private Limited  2-7 Yrs  \n",
       "5                            Schlesinger Group  0-3 Yrs  \n",
       "6   Pluto seven business solutions (p) limited  2-6 Yrs  \n",
       "7                              T & A Solutions  2-6 Yrs  \n",
       "8      Mount Talent Consulting Private Limited  1-6 Yrs  \n",
       "9      Mount Talent Consulting Private Limited  1-6 Yrs  \n",
       "10     Mount Talent Consulting Private Limited  1-4 Yrs  \n",
       "11     Mount Talent Consulting Private Limited  1-3 Yrs  \n",
       "12     Mount Talent Consulting Private Limited  1-3 Yrs  \n",
       "13                                iHackers Inc  0-1 Yrs  \n",
       "14                             Teleperformance  4-9 Yrs  \n",
       "15                   GABA Consultancy services  0-0 Yrs  \n",
       "16                     Boston Consulting Group  2-5 Yrs  \n",
       "17                                       iNICU  1-5 Yrs  \n",
       "18                                     Sentieo  2-7 Yrs  \n",
       "19                                   BlackBuck  3-7 Yrs  "
      ]
     },
     "execution_count": 69,
     "metadata": {},
     "output_type": "execute_result"
    }
   ],
   "source": [
    "jobs=pd.DataFrame()\n",
    "jobs['Title']=job_titles\n",
    "jobs['Location']=location\n",
    "jobs['Company']=company_name\n",
    "jobs['Exp']=experience\n",
    "jobs"
   ]
  },
  {
   "cell_type": "markdown",
   "id": "f12a81a5",
   "metadata": {},
   "source": [
    "* Question 4"
   ]
  },
  {
   "cell_type": "code",
   "execution_count": 4,
   "id": "83ccff51",
   "metadata": {},
   "outputs": [],
   "source": [
    "url='https://www.flipkart.com/'\n",
    "driver.get(url)"
   ]
  },
  {
   "cell_type": "code",
   "execution_count": 5,
   "id": "67fbca74",
   "metadata": {},
   "outputs": [],
   "source": [
    "#finding web element \n",
    "search_product = driver.find_element_by_xpath('/html/body/div[1]/div/div[1]/div[1]/div[2]/div[2]/form/div/div/input')\n",
    "search_product.send_keys('Sunglasses')"
   ]
  },
  {
   "cell_type": "code",
   "execution_count": 6,
   "id": "8c56426d",
   "metadata": {},
   "outputs": [],
   "source": [
    "search_product = driver.find_element_by_xpath('/html/body/div/div/div[1]/div[1]/div[2]/div[2]/form/div/button')\n",
    "search_product.click()"
   ]
  },
  {
   "cell_type": "code",
   "execution_count": 7,
   "id": "de01b5bc",
   "metadata": {},
   "outputs": [
    {
     "data": {
      "text/plain": [
       "40"
      ]
     },
     "execution_count": 7,
     "metadata": {},
     "output_type": "execute_result"
    }
   ],
   "source": [
    "brands_tag=driver.find_elements_by_xpath('//div[@class=\"_2WkVRV\"]')\n",
    "len(brands_tag)"
   ]
  },
  {
   "cell_type": "code",
   "execution_count": 8,
   "id": "6df0e7d6",
   "metadata": {},
   "outputs": [
    {
     "data": {
      "text/plain": [
       "['DEIXELS', 'AISLIN']"
      ]
     },
     "execution_count": 8,
     "metadata": {},
     "output_type": "execute_result"
    }
   ],
   "source": [
    "brands=[]\n",
    "for i in brands_tag:\n",
    "    brands.append(i.text)\n",
    "brands[0:2]"
   ]
  },
  {
   "cell_type": "code",
   "execution_count": 9,
   "id": "a654f851",
   "metadata": {},
   "outputs": [
    {
     "data": {
      "text/plain": [
       "[<selenium.webdriver.remote.webelement.WebElement (session=\"f61516d07111103da9c0e6853619e45d\", element=\"455178d3-5cc0-486d-aaf6-6d794fcb2601\")>,\n",
       " <selenium.webdriver.remote.webelement.WebElement (session=\"f61516d07111103da9c0e6853619e45d\", element=\"ab6ca711-d448-47f8-9f0c-7df22ce80340\")>]"
      ]
     },
     "execution_count": 9,
     "metadata": {},
     "output_type": "execute_result"
    }
   ],
   "source": [
    "descrip_tag=driver.find_elements_by_xpath('//a[@class=\"IRpwTa\"]')\n",
    "descrip_tag[0:2]"
   ]
  },
  {
   "cell_type": "code",
   "execution_count": 10,
   "id": "a4537b83",
   "metadata": {},
   "outputs": [
    {
     "data": {
      "text/plain": [
       "['UV Protection Rectangular Sunglasses (Free Size)',\n",
       " 'Toughened Glass Lens, UV Protection Aviator Sunglasses ...']"
      ]
     },
     "execution_count": 10,
     "metadata": {},
     "output_type": "execute_result"
    }
   ],
   "source": [
    "descrip=[]\n",
    "for i in descrip_tag:\n",
    "    descrip.append(i.text)\n",
    "descrip[0:2]"
   ]
  },
  {
   "cell_type": "code",
   "execution_count": 11,
   "id": "1258b603",
   "metadata": {},
   "outputs": [
    {
     "data": {
      "text/plain": [
       "[<selenium.webdriver.remote.webelement.WebElement (session=\"f61516d07111103da9c0e6853619e45d\", element=\"3e7c2742-1b67-451f-94a2-c46130dfd486\")>,\n",
       " <selenium.webdriver.remote.webelement.WebElement (session=\"f61516d07111103da9c0e6853619e45d\", element=\"eba1d742-6179-4dcf-8726-87f0082fa998\")>]"
      ]
     },
     "execution_count": 11,
     "metadata": {},
     "output_type": "execute_result"
    }
   ],
   "source": [
    "price_tag=driver.find_elements_by_xpath('//div[@class=\"_30jeq3\"]')\n",
    "price_tag[0:2]"
   ]
  },
  {
   "cell_type": "code",
   "execution_count": 12,
   "id": "197d4568",
   "metadata": {},
   "outputs": [
    {
     "data": {
      "text/plain": [
       "['₹319', '₹712']"
      ]
     },
     "execution_count": 12,
     "metadata": {},
     "output_type": "execute_result"
    }
   ],
   "source": [
    "price=[]\n",
    "for i in price_tag:\n",
    "    price.append(i.text)\n",
    "price[0:2]"
   ]
  },
  {
   "cell_type": "code",
   "execution_count": 13,
   "id": "0830807a",
   "metadata": {},
   "outputs": [],
   "source": [
    "next_page=driver.find_element_by_xpath('/html/body/div[1]/div/div[3]/div[1]/div[2]/div[12]/div/div/nav/a[11]/span')\n",
    "next_page.click()"
   ]
  },
  {
   "cell_type": "code",
   "execution_count": 14,
   "id": "d24d9a87",
   "metadata": {},
   "outputs": [
    {
     "data": {
      "text/plain": [
       "40"
      ]
     },
     "execution_count": 14,
     "metadata": {},
     "output_type": "execute_result"
    }
   ],
   "source": [
    "brand_tag=driver.find_elements_by_xpath('//div[@class=\"_2WkVRV\"]')\n",
    "len(brand_tag)"
   ]
  },
  {
   "cell_type": "code",
   "execution_count": 16,
   "id": "e1b2ced1",
   "metadata": {},
   "outputs": [
    {
     "ename": "NameError",
     "evalue": "name 'brand' is not defined",
     "output_type": "error",
     "traceback": [
      "\u001b[1;31m---------------------------------------------------------------------------\u001b[0m",
      "\u001b[1;31mNameError\u001b[0m                                 Traceback (most recent call last)",
      "\u001b[1;32m<ipython-input-16-cc3a772504fd>\u001b[0m in \u001b[0;36m<module>\u001b[1;34m\u001b[0m\n\u001b[0;32m      1\u001b[0m \u001b[1;32mfor\u001b[0m \u001b[0mi\u001b[0m \u001b[1;32min\u001b[0m \u001b[0mbrand_tag\u001b[0m\u001b[1;33m:\u001b[0m\u001b[1;33m\u001b[0m\u001b[1;33m\u001b[0m\u001b[0m\n\u001b[1;32m----> 2\u001b[1;33m     \u001b[0mbrand\u001b[0m\u001b[1;33m.\u001b[0m\u001b[0mappend\u001b[0m\u001b[1;33m(\u001b[0m\u001b[0mi\u001b[0m\u001b[1;33m.\u001b[0m\u001b[0mtext\u001b[0m\u001b[1;33m)\u001b[0m\u001b[1;33m\u001b[0m\u001b[1;33m\u001b[0m\u001b[0m\n\u001b[0m\u001b[0;32m      3\u001b[0m \u001b[0mlen\u001b[0m\u001b[1;33m(\u001b[0m\u001b[0mbrand\u001b[0m\u001b[1;33m)\u001b[0m\u001b[1;33m\u001b[0m\u001b[1;33m\u001b[0m\u001b[0m\n",
      "\u001b[1;31mNameError\u001b[0m: name 'brand' is not defined"
     ]
    }
   ],
   "source": [
    "for i in brand_tag:\n",
    "    brand.append(i.text)\n",
    "len(brand)"
   ]
  },
  {
   "cell_type": "code",
   "execution_count": null,
   "id": "ed7a4c7c",
   "metadata": {},
   "outputs": [],
   "source": []
  },
  {
   "cell_type": "code",
   "execution_count": 16,
   "id": "333df8cd",
   "metadata": {},
   "outputs": [
    {
     "data": {
      "text/plain": [
       "['₹1,179', '₹1,179']"
      ]
     },
     "execution_count": 16,
     "metadata": {},
     "output_type": "execute_result"
    }
   ],
   "source": [
    "price=[]\n",
    "for i in price_tag:\n",
    "    price.append(i.text)\n",
    "price[0:2]"
   ]
  },
  {
   "cell_type": "code",
   "execution_count": 80,
   "id": "9d218db5",
   "metadata": {},
   "outputs": [
    {
     "data": {
      "text/html": [
       "<div>\n",
       "<style scoped>\n",
       "    .dataframe tbody tr th:only-of-type {\n",
       "        vertical-align: middle;\n",
       "    }\n",
       "\n",
       "    .dataframe tbody tr th {\n",
       "        vertical-align: top;\n",
       "    }\n",
       "\n",
       "    .dataframe thead th {\n",
       "        text-align: right;\n",
       "    }\n",
       "</style>\n",
       "<table border=\"1\" class=\"dataframe\">\n",
       "  <thead>\n",
       "    <tr style=\"text-align: right;\">\n",
       "      <th></th>\n",
       "      <th>Brand</th>\n",
       "      <th>Descrip</th>\n",
       "      <th>Price</th>\n",
       "    </tr>\n",
       "  </thead>\n",
       "  <tbody>\n",
       "    <tr>\n",
       "      <th>0</th>\n",
       "      <td>Kanishka</td>\n",
       "      <td>Others Wayfarer Sunglasses (Free Size)</td>\n",
       "      <td>₹522</td>\n",
       "    </tr>\n",
       "    <tr>\n",
       "      <th>1</th>\n",
       "      <td>VILLAIN</td>\n",
       "      <td>Others Retro Square Sunglasses (Free Size)</td>\n",
       "      <td>₹549</td>\n",
       "    </tr>\n",
       "    <tr>\n",
       "      <th>2</th>\n",
       "      <td>PIRASO</td>\n",
       "      <td>UV Protection Aviator Sunglasses (54)</td>\n",
       "      <td>₹200</td>\n",
       "    </tr>\n",
       "    <tr>\n",
       "      <th>3</th>\n",
       "      <td>Elligator</td>\n",
       "      <td>UV Protection Round Sunglasses (54)</td>\n",
       "      <td>₹248</td>\n",
       "    </tr>\n",
       "    <tr>\n",
       "      <th>4</th>\n",
       "      <td>Fastrack</td>\n",
       "      <td>UV Protection Wayfarer Sunglasses (Free Size)</td>\n",
       "      <td>₹759</td>\n",
       "    </tr>\n",
       "    <tr>\n",
       "      <th>5</th>\n",
       "      <td>SRPM</td>\n",
       "      <td>UV Protection Wayfarer Sunglasses (56)</td>\n",
       "      <td>₹198</td>\n",
       "    </tr>\n",
       "    <tr>\n",
       "      <th>6</th>\n",
       "      <td>kingsunglasses</td>\n",
       "      <td>UV Protection Round Sunglasses (54)</td>\n",
       "      <td>₹188</td>\n",
       "    </tr>\n",
       "    <tr>\n",
       "      <th>7</th>\n",
       "      <td>Singco India</td>\n",
       "      <td>by Lenskart UV Protection Wayfarer Sunglasses ...</td>\n",
       "      <td>₹1,179</td>\n",
       "    </tr>\n",
       "    <tr>\n",
       "      <th>8</th>\n",
       "      <td>SHAAH COLLECTIONS</td>\n",
       "      <td>UV Protection, Polarized, Mirrored Rectangular...</td>\n",
       "      <td>₹165</td>\n",
       "    </tr>\n",
       "    <tr>\n",
       "      <th>9</th>\n",
       "      <td>PIRASO</td>\n",
       "      <td>UV Protection Aviator Sunglasses (54)</td>\n",
       "      <td>₹200</td>\n",
       "    </tr>\n",
       "    <tr>\n",
       "      <th>10</th>\n",
       "      <td>PHENOMENAL</td>\n",
       "      <td>UV Protection Retro Square Sunglasses (Free Size)</td>\n",
       "      <td>₹309</td>\n",
       "    </tr>\n",
       "    <tr>\n",
       "      <th>11</th>\n",
       "      <td>ROZZETTA CRAFT</td>\n",
       "      <td>by Lenskart UV Protection Round Sunglasses (48)</td>\n",
       "      <td>₹1,415</td>\n",
       "    </tr>\n",
       "    <tr>\n",
       "      <th>12</th>\n",
       "      <td>New Specs</td>\n",
       "      <td>UV Protection Wayfarer Sunglasses (32)</td>\n",
       "      <td>₹190</td>\n",
       "    </tr>\n",
       "    <tr>\n",
       "      <th>13</th>\n",
       "      <td>PIRASO</td>\n",
       "      <td>Mirrored, UV Protection, Riding Glasses, Other...</td>\n",
       "      <td>₹262</td>\n",
       "    </tr>\n",
       "    <tr>\n",
       "      <th>14</th>\n",
       "      <td>ROZZETTA CRAFT</td>\n",
       "      <td>UV Protection, Gradient Rectangular Sunglasses...</td>\n",
       "      <td>₹383</td>\n",
       "    </tr>\n",
       "    <tr>\n",
       "      <th>15</th>\n",
       "      <td>ROZZETTA CRAFT</td>\n",
       "      <td>by Lenskart Polarized, UV Protection Aviator S...</td>\n",
       "      <td>₹1,179</td>\n",
       "    </tr>\n",
       "    <tr>\n",
       "      <th>16</th>\n",
       "      <td>SUNBEE</td>\n",
       "      <td>UV Protection, Polarized, Mirrored Round Sungl...</td>\n",
       "      <td>₹271</td>\n",
       "    </tr>\n",
       "    <tr>\n",
       "      <th>17</th>\n",
       "      <td>ROYAL SON</td>\n",
       "      <td>UV Protection Aviator Sunglasses (54)</td>\n",
       "      <td>₹200</td>\n",
       "    </tr>\n",
       "    <tr>\n",
       "      <th>18</th>\n",
       "      <td>Elligator</td>\n",
       "      <td>UV Protection Round Sunglasses (53)</td>\n",
       "      <td>₹189</td>\n",
       "    </tr>\n",
       "    <tr>\n",
       "      <th>19</th>\n",
       "      <td>ROZZETTA CRAFT</td>\n",
       "      <td>by Lenskart Polarized, UV Protection Wayfarer ...</td>\n",
       "      <td>₹1,415</td>\n",
       "    </tr>\n",
       "    <tr>\n",
       "      <th>20</th>\n",
       "      <td>PIRASO</td>\n",
       "      <td>Mirrored Aviator Sunglasses (55)</td>\n",
       "      <td>₹359</td>\n",
       "    </tr>\n",
       "    <tr>\n",
       "      <th>21</th>\n",
       "      <td>ROYAL SON</td>\n",
       "      <td>UV Protection Round Sunglasses (Free Size)</td>\n",
       "      <td>₹289</td>\n",
       "    </tr>\n",
       "    <tr>\n",
       "      <th>22</th>\n",
       "      <td>kingsunglasses</td>\n",
       "      <td>UV Protection Rectangular Sunglasses (58)</td>\n",
       "      <td>₹449</td>\n",
       "    </tr>\n",
       "    <tr>\n",
       "      <th>23</th>\n",
       "      <td>ROZZETTA CRAFT</td>\n",
       "      <td>by Lenskart Polarized, UV Protection Wayfarer ...</td>\n",
       "      <td>₹1,179</td>\n",
       "    </tr>\n",
       "    <tr>\n",
       "      <th>24</th>\n",
       "      <td>hipe</td>\n",
       "      <td>Mirrored, Gradient, UV Protection Aviator Sung...</td>\n",
       "      <td>₹178</td>\n",
       "    </tr>\n",
       "    <tr>\n",
       "      <th>25</th>\n",
       "      <td>Lee Topper</td>\n",
       "      <td>UV Protection Rectangular Sunglasses (Free Size)</td>\n",
       "      <td>₹259</td>\n",
       "    </tr>\n",
       "    <tr>\n",
       "      <th>26</th>\n",
       "      <td>kingsunglasses</td>\n",
       "      <td>Mirrored, UV Protection Wayfarer Sunglasses (53)</td>\n",
       "      <td>₹273</td>\n",
       "    </tr>\n",
       "    <tr>\n",
       "      <th>27</th>\n",
       "      <td>VINCENT CHASE</td>\n",
       "      <td>by Lenskart Polarized, UV Protection Aviator S...</td>\n",
       "      <td>₹1,179</td>\n",
       "    </tr>\n",
       "    <tr>\n",
       "      <th>28</th>\n",
       "      <td>SHAAH COLLECTIONS</td>\n",
       "      <td>UV Protection, Polarized, Mirrored Rectangular...</td>\n",
       "      <td>₹181</td>\n",
       "    </tr>\n",
       "    <tr>\n",
       "      <th>29</th>\n",
       "      <td>New Specs</td>\n",
       "      <td>Riding Glasses, Night Vision Wrap-around Sungl...</td>\n",
       "      <td>₹276</td>\n",
       "    </tr>\n",
       "    <tr>\n",
       "      <th>30</th>\n",
       "      <td>Fastrack</td>\n",
       "      <td>UV Protection Retro Square Sunglasses (Free Size)</td>\n",
       "      <td>₹474</td>\n",
       "    </tr>\n",
       "    <tr>\n",
       "      <th>31</th>\n",
       "      <td>ROZZETTA CRAFT</td>\n",
       "      <td>UV Protection, Mirrored Retro Square Sunglasse...</td>\n",
       "      <td>₹299</td>\n",
       "    </tr>\n",
       "    <tr>\n",
       "      <th>32</th>\n",
       "      <td>PIRASO</td>\n",
       "      <td>UV Protection, Mirrored Retro Square Sunglasse...</td>\n",
       "      <td>₹299</td>\n",
       "    </tr>\n",
       "    <tr>\n",
       "      <th>33</th>\n",
       "      <td>ROZZETTA CRAFT</td>\n",
       "      <td>UV Protection Aviator Sunglasses (58)</td>\n",
       "      <td>₹299</td>\n",
       "    </tr>\n",
       "    <tr>\n",
       "      <th>34</th>\n",
       "      <td>PHENOMENAL</td>\n",
       "      <td>UV Protection Wayfarer Sunglasses (55)</td>\n",
       "      <td>₹549</td>\n",
       "    </tr>\n",
       "    <tr>\n",
       "      <th>35</th>\n",
       "      <td>AISLIN</td>\n",
       "      <td>Gradient Aviator Sunglasses (55)</td>\n",
       "      <td>₹196</td>\n",
       "    </tr>\n",
       "    <tr>\n",
       "      <th>36</th>\n",
       "      <td>PHENOMENAL</td>\n",
       "      <td>Gradient, Toughened Glass Lens, UV Protection ...</td>\n",
       "      <td>₹599</td>\n",
       "    </tr>\n",
       "    <tr>\n",
       "      <th>37</th>\n",
       "      <td>agera</td>\n",
       "      <td>UV Protection Round Sunglasses (Free Size)</td>\n",
       "      <td>₹233</td>\n",
       "    </tr>\n",
       "    <tr>\n",
       "      <th>38</th>\n",
       "      <td>Singco India</td>\n",
       "      <td>Polarized Round Sunglasses (48)</td>\n",
       "      <td>₹165</td>\n",
       "    </tr>\n",
       "    <tr>\n",
       "      <th>39</th>\n",
       "      <td>Sewell</td>\n",
       "      <td>UV Protection Round Sunglasses (50)</td>\n",
       "      <td>₹355</td>\n",
       "    </tr>\n",
       "  </tbody>\n",
       "</table>\n",
       "</div>"
      ],
      "text/plain": [
       "                Brand                                            Descrip  \\\n",
       "0            Kanishka             Others Wayfarer Sunglasses (Free Size)   \n",
       "1             VILLAIN         Others Retro Square Sunglasses (Free Size)   \n",
       "2              PIRASO              UV Protection Aviator Sunglasses (54)   \n",
       "3           Elligator                UV Protection Round Sunglasses (54)   \n",
       "4            Fastrack      UV Protection Wayfarer Sunglasses (Free Size)   \n",
       "5                SRPM             UV Protection Wayfarer Sunglasses (56)   \n",
       "6      kingsunglasses                UV Protection Round Sunglasses (54)   \n",
       "7        Singco India  by Lenskart UV Protection Wayfarer Sunglasses ...   \n",
       "8   SHAAH COLLECTIONS  UV Protection, Polarized, Mirrored Rectangular...   \n",
       "9              PIRASO              UV Protection Aviator Sunglasses (54)   \n",
       "10         PHENOMENAL  UV Protection Retro Square Sunglasses (Free Size)   \n",
       "11     ROZZETTA CRAFT    by Lenskart UV Protection Round Sunglasses (48)   \n",
       "12          New Specs             UV Protection Wayfarer Sunglasses (32)   \n",
       "13             PIRASO  Mirrored, UV Protection, Riding Glasses, Other...   \n",
       "14     ROZZETTA CRAFT  UV Protection, Gradient Rectangular Sunglasses...   \n",
       "15     ROZZETTA CRAFT  by Lenskart Polarized, UV Protection Aviator S...   \n",
       "16             SUNBEE  UV Protection, Polarized, Mirrored Round Sungl...   \n",
       "17          ROYAL SON              UV Protection Aviator Sunglasses (54)   \n",
       "18          Elligator                UV Protection Round Sunglasses (53)   \n",
       "19     ROZZETTA CRAFT  by Lenskart Polarized, UV Protection Wayfarer ...   \n",
       "20             PIRASO                   Mirrored Aviator Sunglasses (55)   \n",
       "21          ROYAL SON         UV Protection Round Sunglasses (Free Size)   \n",
       "22     kingsunglasses          UV Protection Rectangular Sunglasses (58)   \n",
       "23     ROZZETTA CRAFT  by Lenskart Polarized, UV Protection Wayfarer ...   \n",
       "24               hipe  Mirrored, Gradient, UV Protection Aviator Sung...   \n",
       "25         Lee Topper   UV Protection Rectangular Sunglasses (Free Size)   \n",
       "26     kingsunglasses   Mirrored, UV Protection Wayfarer Sunglasses (53)   \n",
       "27      VINCENT CHASE  by Lenskart Polarized, UV Protection Aviator S...   \n",
       "28  SHAAH COLLECTIONS  UV Protection, Polarized, Mirrored Rectangular...   \n",
       "29          New Specs  Riding Glasses, Night Vision Wrap-around Sungl...   \n",
       "30           Fastrack  UV Protection Retro Square Sunglasses (Free Size)   \n",
       "31     ROZZETTA CRAFT  UV Protection, Mirrored Retro Square Sunglasse...   \n",
       "32             PIRASO  UV Protection, Mirrored Retro Square Sunglasse...   \n",
       "33     ROZZETTA CRAFT              UV Protection Aviator Sunglasses (58)   \n",
       "34         PHENOMENAL             UV Protection Wayfarer Sunglasses (55)   \n",
       "35             AISLIN                   Gradient Aviator Sunglasses (55)   \n",
       "36         PHENOMENAL  Gradient, Toughened Glass Lens, UV Protection ...   \n",
       "37              agera         UV Protection Round Sunglasses (Free Size)   \n",
       "38       Singco India                    Polarized Round Sunglasses (48)   \n",
       "39             Sewell                UV Protection Round Sunglasses (50)   \n",
       "\n",
       "     Price  \n",
       "0     ₹522  \n",
       "1     ₹549  \n",
       "2     ₹200  \n",
       "3     ₹248  \n",
       "4     ₹759  \n",
       "5     ₹198  \n",
       "6     ₹188  \n",
       "7   ₹1,179  \n",
       "8     ₹165  \n",
       "9     ₹200  \n",
       "10    ₹309  \n",
       "11  ₹1,415  \n",
       "12    ₹190  \n",
       "13    ₹262  \n",
       "14    ₹383  \n",
       "15  ₹1,179  \n",
       "16    ₹271  \n",
       "17    ₹200  \n",
       "18    ₹189  \n",
       "19  ₹1,415  \n",
       "20    ₹359  \n",
       "21    ₹289  \n",
       "22    ₹449  \n",
       "23  ₹1,179  \n",
       "24    ₹178  \n",
       "25    ₹259  \n",
       "26    ₹273  \n",
       "27  ₹1,179  \n",
       "28    ₹181  \n",
       "29    ₹276  \n",
       "30    ₹474  \n",
       "31    ₹299  \n",
       "32    ₹299  \n",
       "33    ₹299  \n",
       "34    ₹549  \n",
       "35    ₹196  \n",
       "36    ₹599  \n",
       "37    ₹233  \n",
       "38    ₹165  \n",
       "39    ₹355  "
      ]
     },
     "execution_count": 80,
     "metadata": {},
     "output_type": "execute_result"
    }
   ],
   "source": [
    "product=pd.DataFrame()\n",
    "product['Brand']=brand\n",
    "product['Descrip']=descrip\n",
    "product['Price']=price\n",
    "product"
   ]
  },
  {
   "cell_type": "markdown",
   "id": "5d212803",
   "metadata": {},
   "source": [
    "* Question 5"
   ]
  },
  {
   "cell_type": "code",
   "execution_count": 216,
   "id": "83bc33d8",
   "metadata": {},
   "outputs": [],
   "source": [
    "url='https://www.flipkart.com/apple-iphone-11-black-64-gb-includes- earpods-power- adapter/p/itm0f37c2240b217?pid=MOBFKCTSVZAXUHGR&lid=LSTMOBFKC TSVZAXUHGREPBFGI&marketplace'\n",
    "driver.get(url)"
   ]
  },
  {
   "cell_type": "code",
   "execution_count": 218,
   "id": "d134a01f",
   "metadata": {},
   "outputs": [],
   "source": [
    "review=driver.find_element_by_xpath('/html/body/div[1]/div/div[3]/div[1]/div[2]/div[7]/div/div/div[5]/div/a/div/span')\n",
    "review.click()"
   ]
  },
  {
   "cell_type": "code",
   "execution_count": 220,
   "id": "948e31a1",
   "metadata": {},
   "outputs": [],
   "source": [
    "rating=[]\n",
    "review_summary=[]\n",
    "full_review=[]\n",
    "rating_tag=driver.find_elements_by_xpath('//div[@class=\"_3LWZlK _1BLPMq\"]')\n",
    "review_summary_tag=driver.find_elements_by_xpath('//p[@class=\"_2-N8zT\"]')\n",
    "full_review_tag=driver.find_elements_by_xpath('//div[@class=\"t-ZTKy\"]')\n",
    "for i in rating_tag:\n",
    "    rating.append(i.text)\n",
    "for i in review_summary_tag:\n",
    "    review_summary.append(i.text)\n",
    "for i in full_review_tag:\n",
    "    full_review.append(i.text)\n",
    "# got to next page\n",
    "next_page=driver.find_element_by_xpath('/html/body/div[1]/div/div[3]/div/div/div[2]/div[13]/div/div/nav/a[11]/span')\n",
    "next_page.click()"
   ]
  },
  {
   "cell_type": "code",
   "execution_count": 221,
   "id": "35fcec63",
   "metadata": {},
   "outputs": [
    {
     "data": {
      "text/plain": [
       "10"
      ]
     },
     "execution_count": 221,
     "metadata": {},
     "output_type": "execute_result"
    }
   ],
   "source": [
    "len(rating)"
   ]
  },
  {
   "cell_type": "code",
   "execution_count": 222,
   "id": "ca3fbe19",
   "metadata": {},
   "outputs": [
    {
     "data": {
      "text/plain": [
       "10"
      ]
     },
     "execution_count": 222,
     "metadata": {},
     "output_type": "execute_result"
    }
   ],
   "source": [
    "len(review_summary)"
   ]
  },
  {
   "cell_type": "code",
   "execution_count": 223,
   "id": "84bca38d",
   "metadata": {},
   "outputs": [
    {
     "data": {
      "text/plain": [
       "10"
      ]
     },
     "execution_count": 223,
     "metadata": {},
     "output_type": "execute_result"
    }
   ],
   "source": [
    "len(full_review)"
   ]
  },
  {
   "cell_type": "code",
   "execution_count": 224,
   "id": "4b77c6f0",
   "metadata": {},
   "outputs": [],
   "source": [
    "rating_tag=driver.find_elements_by_xpath('//div[@class=\"_3LWZlK _1BLPMq\"]')\n",
    "review_summary_tag=driver.find_elements_by_xpath('//p[@class=\"_2-N8zT\"]')\n",
    "full_review_tag=driver.find_elements_by_xpath('//div[@class=\"t-ZTKy\"]')\n",
    "for i in rating_tag:\n",
    "    rating.append(i.text)\n",
    "for i in review_summary_tag:\n",
    "    review_summary.append(i.text)\n",
    "for i in full_review_tag:\n",
    "    full_review.append(i.text)\n",
    "# got to next page\n",
    "next_page=driver.find_element_by_xpath('/html/body/div[1]/div/div[3]/div/div/div[2]/div[13]/div/div/nav/a[12]/span')\n",
    "next_page.click()"
   ]
  },
  {
   "cell_type": "code",
   "execution_count": 225,
   "id": "0786d602",
   "metadata": {},
   "outputs": [
    {
     "data": {
      "text/plain": [
       "20"
      ]
     },
     "execution_count": 225,
     "metadata": {},
     "output_type": "execute_result"
    }
   ],
   "source": [
    "len(rating)"
   ]
  },
  {
   "cell_type": "code",
   "execution_count": 226,
   "id": "3e073a6f",
   "metadata": {},
   "outputs": [
    {
     "data": {
      "text/plain": [
       "20"
      ]
     },
     "execution_count": 226,
     "metadata": {},
     "output_type": "execute_result"
    }
   ],
   "source": [
    "len(review_summary)"
   ]
  },
  {
   "cell_type": "code",
   "execution_count": 227,
   "id": "c1589659",
   "metadata": {},
   "outputs": [
    {
     "data": {
      "text/plain": [
       "20"
      ]
     },
     "execution_count": 227,
     "metadata": {},
     "output_type": "execute_result"
    }
   ],
   "source": [
    "len(full_review)"
   ]
  },
  {
   "cell_type": "code",
   "execution_count": 229,
   "id": "ee0747ef",
   "metadata": {},
   "outputs": [],
   "source": [
    "rating_tag=driver.find_elements_by_xpath('//div[@class=\"_3LWZlK _1BLPMq\"]')\n",
    "review_summary_tag=driver.find_elements_by_xpath('//p[@class=\"_2-N8zT\"]')\n",
    "full_review_tag=driver.find_elements_by_xpath('//div[@class=\"t-ZTKy\"]')\n",
    "for i in rating_tag:\n",
    "    rating.append(i.text)\n",
    "rating_tag=driver.find_elements_by_xpath('//div[@class=\"_3LWZlK _1rdVr6 _1BLPMq\"]')\n",
    "for i in rating_tag:\n",
    "    rating.append(i.text)\n",
    "for i in review_summary_tag:\n",
    "    review_summary.append(i.text)\n",
    "for i in full_review_tag:\n",
    "    full_review.append(i.text)\n",
    "# got to next page\n",
    "next_page=driver.find_element_by_xpath('/html/body/div[1]/div/div[3]/div/div/div[2]/div[13]/div/div/nav/a[12]/span')\n",
    "next_page.click()"
   ]
  },
  {
   "cell_type": "code",
   "execution_count": 230,
   "id": "b074be16",
   "metadata": {},
   "outputs": [
    {
     "data": {
      "text/plain": [
       "40"
      ]
     },
     "execution_count": 230,
     "metadata": {},
     "output_type": "execute_result"
    }
   ],
   "source": [
    "len(rating)"
   ]
  },
  {
   "cell_type": "code",
   "execution_count": 231,
   "id": "5474cec6",
   "metadata": {},
   "outputs": [
    {
     "data": {
      "text/plain": [
       "40"
      ]
     },
     "execution_count": 231,
     "metadata": {},
     "output_type": "execute_result"
    }
   ],
   "source": [
    "len(review_summary)"
   ]
  },
  {
   "cell_type": "code",
   "execution_count": 232,
   "id": "937d6e24",
   "metadata": {},
   "outputs": [
    {
     "data": {
      "text/plain": [
       "40"
      ]
     },
     "execution_count": 232,
     "metadata": {},
     "output_type": "execute_result"
    }
   ],
   "source": [
    "len(full_review)"
   ]
  },
  {
   "cell_type": "code",
   "execution_count": 233,
   "id": "ed04c008",
   "metadata": {},
   "outputs": [],
   "source": [
    "rating_tag=driver.find_elements_by_xpath('//div[@class=\"_3LWZlK _1BLPMq\"]')\n",
    "review_summary_tag=driver.find_elements_by_xpath('//p[@class=\"_2-N8zT\"]')\n",
    "full_review_tag=driver.find_elements_by_xpath('//div[@class=\"t-ZTKy\"]')\n",
    "for i in rating_tag:\n",
    "    rating.append(i.text)\n",
    "for i in review_summary_tag:\n",
    "    review_summary.append(i.text)\n",
    "for i in full_review_tag:\n",
    "    full_review.append(i.text)\n",
    "# got to next page\n",
    "next_page=driver.find_element_by_xpath('/html/body/div[1]/div/div[3]/div/div/div[2]/div[13]/div/div/nav/a[12]/span')\n",
    "next_page.click()"
   ]
  },
  {
   "cell_type": "code",
   "execution_count": 234,
   "id": "daeb6a7b",
   "metadata": {},
   "outputs": [
    {
     "data": {
      "text/plain": [
       "50"
      ]
     },
     "execution_count": 234,
     "metadata": {},
     "output_type": "execute_result"
    }
   ],
   "source": [
    "len(rating)"
   ]
  },
  {
   "cell_type": "code",
   "execution_count": 235,
   "id": "f6f1a14d",
   "metadata": {},
   "outputs": [
    {
     "data": {
      "text/plain": [
       "50"
      ]
     },
     "execution_count": 235,
     "metadata": {},
     "output_type": "execute_result"
    }
   ],
   "source": [
    "len(review_summary)"
   ]
  },
  {
   "cell_type": "code",
   "execution_count": 236,
   "id": "7e714fa7",
   "metadata": {},
   "outputs": [
    {
     "data": {
      "text/plain": [
       "50"
      ]
     },
     "execution_count": 236,
     "metadata": {},
     "output_type": "execute_result"
    }
   ],
   "source": [
    "len(full_review)"
   ]
  },
  {
   "cell_type": "code",
   "execution_count": 237,
   "id": "1aa7d2c8",
   "metadata": {},
   "outputs": [],
   "source": [
    "rating_tag=driver.find_elements_by_xpath('//div[@class=\"_3LWZlK _1BLPMq\"]')\n",
    "review_summary_tag=driver.find_elements_by_xpath('//p[@class=\"_2-N8zT\"]')\n",
    "full_review_tag=driver.find_elements_by_xpath('//div[@class=\"t-ZTKy\"]')\n",
    "for i in rating_tag:\n",
    "    rating.append(i.text)\n",
    "for i in review_summary_tag:\n",
    "    review_summary.append(i.text)\n",
    "for i in full_review_tag:\n",
    "    full_review.append(i.text)\n",
    "# got to next page\n",
    "next_page=driver.find_element_by_xpath('/html/body/div[1]/div/div[3]/div/div/div[2]/div[13]/div/div/nav/a[12]/span')\n",
    "next_page.click()"
   ]
  },
  {
   "cell_type": "code",
   "execution_count": 238,
   "id": "c7550bc6",
   "metadata": {},
   "outputs": [
    {
     "data": {
      "text/plain": [
       "60"
      ]
     },
     "execution_count": 238,
     "metadata": {},
     "output_type": "execute_result"
    }
   ],
   "source": [
    "len(rating)"
   ]
  },
  {
   "cell_type": "code",
   "execution_count": 239,
   "id": "f1d5493b",
   "metadata": {},
   "outputs": [
    {
     "data": {
      "text/plain": [
       "60"
      ]
     },
     "execution_count": 239,
     "metadata": {},
     "output_type": "execute_result"
    }
   ],
   "source": [
    "len(review_summary)"
   ]
  },
  {
   "cell_type": "code",
   "execution_count": 240,
   "id": "dea2340a",
   "metadata": {},
   "outputs": [
    {
     "data": {
      "text/plain": [
       "60"
      ]
     },
     "execution_count": 240,
     "metadata": {},
     "output_type": "execute_result"
    }
   ],
   "source": [
    "len(full_review)"
   ]
  },
  {
   "cell_type": "code",
   "execution_count": 241,
   "id": "c0e2be41",
   "metadata": {},
   "outputs": [],
   "source": [
    "rating_tag=driver.find_elements_by_xpath('//div[@class=\"_3LWZlK _1BLPMq\"]')\n",
    "review_summary_tag=driver.find_elements_by_xpath('//p[@class=\"_2-N8zT\"]')\n",
    "full_review_tag=driver.find_elements_by_xpath('//div[@class=\"t-ZTKy\"]')\n",
    "for i in rating_tag:\n",
    "    rating.append(i.text)\n",
    "rating_tag=driver.find_elements_by_xpath('//div[@class=\"_3LWZlK _1rdVr6 _1BLPMq\"]')\n",
    "for i in rating_tag:\n",
    "    rating.append(i.text)\n",
    "for i in review_summary_tag:\n",
    "    review_summary.append(i.text)\n",
    "for i in full_review_tag:\n",
    "    full_review.append(i.text)\n",
    "# got to next page\n",
    "next_page=driver.find_element_by_xpath('/html/body/div[1]/div/div[3]/div/div/div[2]/div[13]/div/div/nav/a[12]/span')\n",
    "next_page.click()"
   ]
  },
  {
   "cell_type": "code",
   "execution_count": 242,
   "id": "2b225496",
   "metadata": {},
   "outputs": [
    {
     "data": {
      "text/plain": [
       "70"
      ]
     },
     "execution_count": 242,
     "metadata": {},
     "output_type": "execute_result"
    }
   ],
   "source": [
    "len(rating)"
   ]
  },
  {
   "cell_type": "code",
   "execution_count": 243,
   "id": "9a2e8cf3",
   "metadata": {},
   "outputs": [
    {
     "data": {
      "text/plain": [
       "70"
      ]
     },
     "execution_count": 243,
     "metadata": {},
     "output_type": "execute_result"
    }
   ],
   "source": [
    "len(review_summary)"
   ]
  },
  {
   "cell_type": "code",
   "execution_count": 244,
   "id": "b78cf467",
   "metadata": {},
   "outputs": [
    {
     "data": {
      "text/plain": [
       "70"
      ]
     },
     "execution_count": 244,
     "metadata": {},
     "output_type": "execute_result"
    }
   ],
   "source": [
    "len(full_review)"
   ]
  },
  {
   "cell_type": "code",
   "execution_count": 245,
   "id": "d45422d3",
   "metadata": {},
   "outputs": [],
   "source": [
    "rating_tag=driver.find_elements_by_xpath('//div[@class=\"_3LWZlK _1BLPMq\"]')\n",
    "review_summary_tag=driver.find_elements_by_xpath('//p[@class=\"_2-N8zT\"]')\n",
    "full_review_tag=driver.find_elements_by_xpath('//div[@class=\"t-ZTKy\"]')\n",
    "for i in rating_tag:\n",
    "    rating.append(i.text)\n",
    "rating_tag=driver.find_elements_by_xpath('//div[@class=\"_3LWZlK _1rdVr6 _1BLPMq\"]')\n",
    "for i in rating_tag:\n",
    "    rating.append(i.text)\n",
    "for i in review_summary_tag:\n",
    "    review_summary.append(i.text)\n",
    "for i in full_review_tag:\n",
    "    full_review.append(i.text)\n",
    "# got to next page\n",
    "next_page=driver.find_element_by_xpath('/html/body/div[1]/div/div[3]/div/div/div[2]/div[13]/div/div/nav/a[12]/span')\n",
    "next_page.click()"
   ]
  },
  {
   "cell_type": "code",
   "execution_count": 246,
   "id": "49a738cd",
   "metadata": {},
   "outputs": [
    {
     "data": {
      "text/plain": [
       "80"
      ]
     },
     "execution_count": 246,
     "metadata": {},
     "output_type": "execute_result"
    }
   ],
   "source": [
    "len(rating)"
   ]
  },
  {
   "cell_type": "code",
   "execution_count": 247,
   "id": "60f2b55f",
   "metadata": {},
   "outputs": [
    {
     "data": {
      "text/plain": [
       "80"
      ]
     },
     "execution_count": 247,
     "metadata": {},
     "output_type": "execute_result"
    }
   ],
   "source": [
    "len(review_summary)"
   ]
  },
  {
   "cell_type": "code",
   "execution_count": 248,
   "id": "837d41ae",
   "metadata": {},
   "outputs": [
    {
     "data": {
      "text/plain": [
       "80"
      ]
     },
     "execution_count": 248,
     "metadata": {},
     "output_type": "execute_result"
    }
   ],
   "source": [
    "len(full_review)"
   ]
  },
  {
   "cell_type": "code",
   "execution_count": 249,
   "id": "425532a4",
   "metadata": {},
   "outputs": [],
   "source": [
    "rating_tag=driver.find_elements_by_xpath('//div[@class=\"_3LWZlK _1BLPMq\"]')\n",
    "review_summary_tag=driver.find_elements_by_xpath('//p[@class=\"_2-N8zT\"]')\n",
    "full_review_tag=driver.find_elements_by_xpath('//div[@class=\"t-ZTKy\"]')\n",
    "for i in rating_tag:\n",
    "    rating.append(i.text)\n",
    "rating_tag=driver.find_elements_by_xpath('//div[@class=\"_3LWZlK _1rdVr6 _1BLPMq\"]')\n",
    "for i in rating_tag:\n",
    "    rating.append(i.text)\n",
    "for i in review_summary_tag:\n",
    "    review_summary.append(i.text)\n",
    "for i in full_review_tag:\n",
    "    full_review.append(i.text)\n",
    "# got to next page\n",
    "next_page=driver.find_element_by_xpath('/html/body/div[1]/div/div[3]/div/div/div[2]/div[13]/div/div/nav/a[12]/span')\n",
    "next_page.click()"
   ]
  },
  {
   "cell_type": "code",
   "execution_count": 250,
   "id": "faa5df0b",
   "metadata": {},
   "outputs": [
    {
     "data": {
      "text/plain": [
       "90"
      ]
     },
     "execution_count": 250,
     "metadata": {},
     "output_type": "execute_result"
    }
   ],
   "source": [
    "len(rating)"
   ]
  },
  {
   "cell_type": "code",
   "execution_count": 251,
   "id": "f601f902",
   "metadata": {},
   "outputs": [
    {
     "data": {
      "text/plain": [
       "90"
      ]
     },
     "execution_count": 251,
     "metadata": {},
     "output_type": "execute_result"
    }
   ],
   "source": [
    "len(review_summary)"
   ]
  },
  {
   "cell_type": "code",
   "execution_count": 252,
   "id": "640afea4",
   "metadata": {},
   "outputs": [
    {
     "data": {
      "text/plain": [
       "90"
      ]
     },
     "execution_count": 252,
     "metadata": {},
     "output_type": "execute_result"
    }
   ],
   "source": [
    "len(full_review)"
   ]
  },
  {
   "cell_type": "code",
   "execution_count": 253,
   "id": "cd519f1f",
   "metadata": {},
   "outputs": [],
   "source": [
    "rating_tag=driver.find_elements_by_xpath('//div[@class=\"_3LWZlK _1BLPMq\"]')\n",
    "review_summary_tag=driver.find_elements_by_xpath('//p[@class=\"_2-N8zT\"]')\n",
    "full_review_tag=driver.find_elements_by_xpath('//div[@class=\"t-ZTKy\"]')\n",
    "for i in rating_tag:\n",
    "    rating.append(i.text)\n",
    "for i in review_summary_tag:\n",
    "    review_summary.append(i.text)\n",
    "for i in full_review_tag:\n",
    "    full_review.append(i.text)"
   ]
  },
  {
   "cell_type": "code",
   "execution_count": 254,
   "id": "81f95f7d",
   "metadata": {},
   "outputs": [
    {
     "data": {
      "text/plain": [
       "100"
      ]
     },
     "execution_count": 254,
     "metadata": {},
     "output_type": "execute_result"
    }
   ],
   "source": [
    "len(rating)"
   ]
  },
  {
   "cell_type": "code",
   "execution_count": 255,
   "id": "5c31fc00",
   "metadata": {},
   "outputs": [
    {
     "data": {
      "text/plain": [
       "100"
      ]
     },
     "execution_count": 255,
     "metadata": {},
     "output_type": "execute_result"
    }
   ],
   "source": [
    "len(review_summary)"
   ]
  },
  {
   "cell_type": "code",
   "execution_count": 256,
   "id": "27e435eb",
   "metadata": {},
   "outputs": [
    {
     "data": {
      "text/plain": [
       "100"
      ]
     },
     "execution_count": 256,
     "metadata": {},
     "output_type": "execute_result"
    }
   ],
   "source": [
    "len(full_review)"
   ]
  },
  {
   "cell_type": "code",
   "execution_count": 257,
   "id": "74f52faa",
   "metadata": {},
   "outputs": [
    {
     "data": {
      "text/html": [
       "<div>\n",
       "<style scoped>\n",
       "    .dataframe tbody tr th:only-of-type {\n",
       "        vertical-align: middle;\n",
       "    }\n",
       "\n",
       "    .dataframe tbody tr th {\n",
       "        vertical-align: top;\n",
       "    }\n",
       "\n",
       "    .dataframe thead th {\n",
       "        text-align: right;\n",
       "    }\n",
       "</style>\n",
       "<table border=\"1\" class=\"dataframe\">\n",
       "  <thead>\n",
       "    <tr style=\"text-align: right;\">\n",
       "      <th></th>\n",
       "      <th>Rating</th>\n",
       "      <th>Review_summary</th>\n",
       "      <th>Full_review</th>\n",
       "    </tr>\n",
       "  </thead>\n",
       "  <tbody>\n",
       "    <tr>\n",
       "      <th>0</th>\n",
       "      <td>5</td>\n",
       "      <td>Brilliant</td>\n",
       "      <td>The Best Phone for the Money\\n\\nThe iPhone 11 ...</td>\n",
       "    </tr>\n",
       "    <tr>\n",
       "      <th>1</th>\n",
       "      <td>5</td>\n",
       "      <td>Simply awesome</td>\n",
       "      <td>Really satisfied with the Product I received.....</td>\n",
       "    </tr>\n",
       "    <tr>\n",
       "      <th>2</th>\n",
       "      <td>5</td>\n",
       "      <td>Best in the market!</td>\n",
       "      <td>Great iPhone very snappy experience as apple k...</td>\n",
       "    </tr>\n",
       "    <tr>\n",
       "      <th>3</th>\n",
       "      <td>5</td>\n",
       "      <td>Perfect product!</td>\n",
       "      <td>Amazing phone with great cameras and better ba...</td>\n",
       "    </tr>\n",
       "    <tr>\n",
       "      <th>4</th>\n",
       "      <td>5</td>\n",
       "      <td>Worth every penny</td>\n",
       "      <td>Previously I was using one plus 3t it was a gr...</td>\n",
       "    </tr>\n",
       "    <tr>\n",
       "      <th>...</th>\n",
       "      <td>...</td>\n",
       "      <td>...</td>\n",
       "      <td>...</td>\n",
       "    </tr>\n",
       "    <tr>\n",
       "      <th>95</th>\n",
       "      <td>5</td>\n",
       "      <td>Just wow!</td>\n",
       "      <td>The ultimate performance\\nCamera is superb\\nTh...</td>\n",
       "    </tr>\n",
       "    <tr>\n",
       "      <th>96</th>\n",
       "      <td>5</td>\n",
       "      <td>Terrific purchase</td>\n",
       "      <td>I use a Note10+ and have been using both iOS a...</td>\n",
       "    </tr>\n",
       "    <tr>\n",
       "      <th>97</th>\n",
       "      <td>5</td>\n",
       "      <td>Awesome</td>\n",
       "      <td>The phone is completely good\\nAs far as camera...</td>\n",
       "    </tr>\n",
       "    <tr>\n",
       "      <th>98</th>\n",
       "      <td>3</td>\n",
       "      <td>Decent product</td>\n",
       "      <td>Everything u ll like it when u use this iPhone...</td>\n",
       "    </tr>\n",
       "    <tr>\n",
       "      <th>99</th>\n",
       "      <td>5</td>\n",
       "      <td>Wonderful</td>\n",
       "      <td>Nice value for money good and best price I pho...</td>\n",
       "    </tr>\n",
       "  </tbody>\n",
       "</table>\n",
       "<p>100 rows × 3 columns</p>\n",
       "</div>"
      ],
      "text/plain": [
       "   Rating       Review_summary  \\\n",
       "0       5            Brilliant   \n",
       "1       5       Simply awesome   \n",
       "2       5  Best in the market!   \n",
       "3       5     Perfect product!   \n",
       "4       5    Worth every penny   \n",
       "..    ...                  ...   \n",
       "95      5            Just wow!   \n",
       "96      5    Terrific purchase   \n",
       "97      5              Awesome   \n",
       "98      3       Decent product   \n",
       "99      5            Wonderful   \n",
       "\n",
       "                                          Full_review  \n",
       "0   The Best Phone for the Money\\n\\nThe iPhone 11 ...  \n",
       "1   Really satisfied with the Product I received.....  \n",
       "2   Great iPhone very snappy experience as apple k...  \n",
       "3   Amazing phone with great cameras and better ba...  \n",
       "4   Previously I was using one plus 3t it was a gr...  \n",
       "..                                                ...  \n",
       "95  The ultimate performance\\nCamera is superb\\nTh...  \n",
       "96  I use a Note10+ and have been using both iOS a...  \n",
       "97  The phone is completely good\\nAs far as camera...  \n",
       "98  Everything u ll like it when u use this iPhone...  \n",
       "99  Nice value for money good and best price I pho...  \n",
       "\n",
       "[100 rows x 3 columns]"
      ]
     },
     "execution_count": 257,
     "metadata": {},
     "output_type": "execute_result"
    }
   ],
   "source": [
    "product=pd.DataFrame()\n",
    "product['Rating']=rating\n",
    "product['Review_summary']=review_summary\n",
    "product['Full_review']=full_review\n",
    "product"
   ]
  },
  {
   "cell_type": "markdown",
   "id": "7bc6eacd",
   "metadata": {},
   "source": [
    "* Question 6- Python program to scrape data for “Data Scientist” Job position in “Bangalore” location’"
   ]
  },
  {
   "cell_type": "code",
   "execution_count": 91,
   "id": "7a5053b2",
   "metadata": {},
   "outputs": [],
   "source": [
    "url='https://www.flipkart.com'\n",
    "driver.get(url)"
   ]
  },
  {
   "cell_type": "code",
   "execution_count": 92,
   "id": "84e91cf4",
   "metadata": {},
   "outputs": [],
   "source": [
    "#finding web element \n",
    "search_product = driver.find_element_by_xpath('/html/body/div[1]/div/div[1]/div[1]/div[2]/div[2]/form/div/div/input')\n",
    "search_product.send_keys('sneakers')"
   ]
  },
  {
   "cell_type": "code",
   "execution_count": 93,
   "id": "ff37566f",
   "metadata": {},
   "outputs": [],
   "source": [
    "search_product = driver.find_element_by_xpath('/html/body/div[1]/div/div[1]/div[1]/div[2]/div[2]/form/div/button')\n",
    "search_product.click()"
   ]
  },
  {
   "cell_type": "code",
   "execution_count": 94,
   "id": "a2635928",
   "metadata": {},
   "outputs": [],
   "source": [
    "brand=[]\n",
    "descrip=[]\n",
    "price=[]\n",
    "descrip_tag=driver.find_elements_by_xpath('//a[@class=\"IRpwTa\"]')\n",
    "brand_tag=driver.find_elements_by_xpath('//div[@class=\"_2WkVRV\"]')\n",
    "price_tag=driver.find_elements_by_xpath('//div[@class=\"_30jeq3\"]')\n",
    "for i in brand_tag:\n",
    "    brand.append(i.text)\n",
    "for i in descrip_tag:\n",
    "    descrip.append(i.text)\n",
    "descrip_tag=driver.find_elements_by_xpath('//a[@class=\"IRpwTa _2-ICcC\"]')\n",
    "for i in descrip_tag:\n",
    "    descrip.append(i.text)\n",
    "for i in price_tag:\n",
    "    price.append(i.text)\n",
    "# got to next page\n",
    "next_page=driver.find_element_by_xpath('/html/body/div[1]/div/div[3]/div[1]/div[2]/div[12]/div/div/nav/a[11]/span')\n",
    "next_page.click()\n"
   ]
  },
  {
   "cell_type": "code",
   "execution_count": 77,
   "id": "a4fb3759",
   "metadata": {},
   "outputs": [
    {
     "data": {
      "text/plain": [
       "40"
      ]
     },
     "execution_count": 77,
     "metadata": {},
     "output_type": "execute_result"
    }
   ],
   "source": [
    "len(brand)"
   ]
  },
  {
   "cell_type": "code",
   "execution_count": 78,
   "id": "078645e8",
   "metadata": {},
   "outputs": [
    {
     "data": {
      "text/plain": [
       "40"
      ]
     },
     "execution_count": 78,
     "metadata": {},
     "output_type": "execute_result"
    }
   ],
   "source": [
    "len(descrip)"
   ]
  },
  {
   "cell_type": "code",
   "execution_count": 79,
   "id": "957ad49c",
   "metadata": {},
   "outputs": [
    {
     "data": {
      "text/plain": [
       "40"
      ]
     },
     "execution_count": 79,
     "metadata": {},
     "output_type": "execute_result"
    }
   ],
   "source": [
    "len(price)"
   ]
  },
  {
   "cell_type": "code",
   "execution_count": 95,
   "id": "68e64ec4",
   "metadata": {},
   "outputs": [],
   "source": [
    "descrip_tag=driver.find_elements_by_xpath('//a[@class=\"IRpwTa\"]')\n",
    "brand_tag=driver.find_elements_by_xpath('//div[@class=\"_2WkVRV\"]')\n",
    "price_tag=driver.find_elements_by_xpath('//div[@class=\"_30jeq3\"]')\n",
    "for i in brand_tag:\n",
    "    brand.append(i.text)\n",
    "for i in descrip_tag:\n",
    "    descrip.append(i.text)\n",
    "descrip_tag=driver.find_elements_by_xpath('//a[@class=\"IRpwTa _2-ICcC\"]')\n",
    "for i in descrip_tag:\n",
    "    descrip.append(i.text)\n",
    "for i in price_tag:\n",
    "    price.append(i.text)\n",
    "# got to next page\n",
    "next_page=driver.find_element_by_xpath('/html/body/div[1]/div/div[3]/div[1]/div[2]/div[12]/div/div/nav/a[12]/span')\n",
    "next_page.click()"
   ]
  },
  {
   "cell_type": "code",
   "execution_count": 82,
   "id": "a6312f83",
   "metadata": {},
   "outputs": [
    {
     "data": {
      "text/plain": [
       "80"
      ]
     },
     "execution_count": 82,
     "metadata": {},
     "output_type": "execute_result"
    }
   ],
   "source": [
    "len(brand)"
   ]
  },
  {
   "cell_type": "code",
   "execution_count": 83,
   "id": "4ca52fbe",
   "metadata": {},
   "outputs": [
    {
     "data": {
      "text/plain": [
       "80"
      ]
     },
     "execution_count": 83,
     "metadata": {},
     "output_type": "execute_result"
    }
   ],
   "source": [
    "len(descrip)"
   ]
  },
  {
   "cell_type": "code",
   "execution_count": 84,
   "id": "79a7e73d",
   "metadata": {},
   "outputs": [
    {
     "data": {
      "text/plain": [
       "80"
      ]
     },
     "execution_count": 84,
     "metadata": {},
     "output_type": "execute_result"
    }
   ],
   "source": [
    "len(price)"
   ]
  },
  {
   "cell_type": "code",
   "execution_count": 96,
   "id": "d0b1b364",
   "metadata": {},
   "outputs": [],
   "source": [
    "numcount=0\n",
    "brand_tag=driver.find_elements_by_xpath('//div[@class=\"_2WkVRV\"]')\n",
    "price_tag=driver.find_elements_by_xpath('//div[@class=\"_30jeq3\"]')\n",
    "for i in brand_tag:\n",
    "    brand.append(i.text)\n",
    "    numcount+=1\n",
    "    if numcount>19:\n",
    "        break\n",
    "numcount=0\n",
    "for i in price_tag:\n",
    "    price.append(i.text)\n",
    "    numcount+=1\n",
    "    if numcount>19:\n",
    "        break\n",
    "numcount=0\n",
    "descrip_tag=driver.find_elements_by_xpath('//a[@class=\"IRpwTa\"]')\n",
    "for i in descrip_tag:\n",
    "    descrip.append(i.text)\n",
    "    numcount+=1\n",
    "    if numcount>19:\n",
    "        break"
   ]
  },
  {
   "cell_type": "code",
   "execution_count": 97,
   "id": "a555195d",
   "metadata": {},
   "outputs": [
    {
     "data": {
      "text/plain": [
       "100"
      ]
     },
     "execution_count": 97,
     "metadata": {},
     "output_type": "execute_result"
    }
   ],
   "source": [
    "len(brand)"
   ]
  },
  {
   "cell_type": "code",
   "execution_count": 98,
   "id": "146d1d29",
   "metadata": {},
   "outputs": [
    {
     "data": {
      "text/plain": [
       "100"
      ]
     },
     "execution_count": 98,
     "metadata": {},
     "output_type": "execute_result"
    }
   ],
   "source": [
    "len(descrip)"
   ]
  },
  {
   "cell_type": "code",
   "execution_count": 99,
   "id": "55386815",
   "metadata": {},
   "outputs": [
    {
     "data": {
      "text/plain": [
       "100"
      ]
     },
     "execution_count": 99,
     "metadata": {},
     "output_type": "execute_result"
    }
   ],
   "source": [
    "len(price)"
   ]
  },
  {
   "cell_type": "code",
   "execution_count": 100,
   "id": "e9cda70c",
   "metadata": {},
   "outputs": [
    {
     "data": {
      "text/html": [
       "<div>\n",
       "<style scoped>\n",
       "    .dataframe tbody tr th:only-of-type {\n",
       "        vertical-align: middle;\n",
       "    }\n",
       "\n",
       "    .dataframe tbody tr th {\n",
       "        vertical-align: top;\n",
       "    }\n",
       "\n",
       "    .dataframe thead th {\n",
       "        text-align: right;\n",
       "    }\n",
       "</style>\n",
       "<table border=\"1\" class=\"dataframe\">\n",
       "  <thead>\n",
       "    <tr style=\"text-align: right;\">\n",
       "      <th></th>\n",
       "      <th>Brand</th>\n",
       "      <th>Descrip</th>\n",
       "      <th>Price</th>\n",
       "    </tr>\n",
       "  </thead>\n",
       "  <tbody>\n",
       "    <tr>\n",
       "      <th>0</th>\n",
       "      <td>Echor</td>\n",
       "      <td>Men's Sneakers Fashion Lightweight Running Sho...</td>\n",
       "      <td>₹569</td>\n",
       "    </tr>\n",
       "    <tr>\n",
       "      <th>1</th>\n",
       "      <td>Echor</td>\n",
       "      <td>Men's Sneakers Fashion Lightweight Running Sho...</td>\n",
       "      <td>₹569</td>\n",
       "    </tr>\n",
       "    <tr>\n",
       "      <th>2</th>\n",
       "      <td>Labbin</td>\n",
       "      <td>Sneakers For Men</td>\n",
       "      <td>₹499</td>\n",
       "    </tr>\n",
       "    <tr>\n",
       "      <th>3</th>\n",
       "      <td>BIRDE</td>\n",
       "      <td>Sports Running Shoes Sneakers For Men</td>\n",
       "      <td>₹299</td>\n",
       "    </tr>\n",
       "    <tr>\n",
       "      <th>4</th>\n",
       "      <td>luxury fashion</td>\n",
       "      <td>Luxury Fashionable casual shoes Sneakers For Men</td>\n",
       "      <td>₹429</td>\n",
       "    </tr>\n",
       "    <tr>\n",
       "      <th>...</th>\n",
       "      <td>...</td>\n",
       "      <td>...</td>\n",
       "      <td>...</td>\n",
       "    </tr>\n",
       "    <tr>\n",
       "      <th>95</th>\n",
       "      <td>GVR</td>\n",
       "      <td>Sneakers For Men</td>\n",
       "      <td>₹549</td>\n",
       "    </tr>\n",
       "    <tr>\n",
       "      <th>96</th>\n",
       "      <td>World Wear Footwear</td>\n",
       "      <td>SM-162 Sneakers For Men</td>\n",
       "      <td>₹599</td>\n",
       "    </tr>\n",
       "    <tr>\n",
       "      <th>97</th>\n",
       "      <td>Zorth</td>\n",
       "      <td>Sneakers For Men</td>\n",
       "      <td>₹447</td>\n",
       "    </tr>\n",
       "    <tr>\n",
       "      <th>98</th>\n",
       "      <td>CLYMB</td>\n",
       "      <td>Sneakers For Men</td>\n",
       "      <td>₹649</td>\n",
       "    </tr>\n",
       "    <tr>\n",
       "      <th>99</th>\n",
       "      <td>JYOTIFED FOOTWEARS</td>\n",
       "      <td>ALL-SPORT Sneakers For Men</td>\n",
       "      <td>₹749</td>\n",
       "    </tr>\n",
       "  </tbody>\n",
       "</table>\n",
       "<p>100 rows × 3 columns</p>\n",
       "</div>"
      ],
      "text/plain": [
       "                  Brand                                            Descrip  \\\n",
       "0                 Echor  Men's Sneakers Fashion Lightweight Running Sho...   \n",
       "1                 Echor  Men's Sneakers Fashion Lightweight Running Sho...   \n",
       "2                Labbin                                   Sneakers For Men   \n",
       "3                 BIRDE              Sports Running Shoes Sneakers For Men   \n",
       "4        luxury fashion   Luxury Fashionable casual shoes Sneakers For Men   \n",
       "..                  ...                                                ...   \n",
       "95                  GVR                                   Sneakers For Men   \n",
       "96  World Wear Footwear                            SM-162 Sneakers For Men   \n",
       "97                Zorth                                   Sneakers For Men   \n",
       "98                CLYMB                                   Sneakers For Men   \n",
       "99   JYOTIFED FOOTWEARS                         ALL-SPORT Sneakers For Men   \n",
       "\n",
       "   Price  \n",
       "0   ₹569  \n",
       "1   ₹569  \n",
       "2   ₹499  \n",
       "3   ₹299  \n",
       "4   ₹429  \n",
       "..   ...  \n",
       "95  ₹549  \n",
       "96  ₹599  \n",
       "97  ₹447  \n",
       "98  ₹649  \n",
       "99  ₹749  \n",
       "\n",
       "[100 rows x 3 columns]"
      ]
     },
     "execution_count": 100,
     "metadata": {},
     "output_type": "execute_result"
    }
   ],
   "source": [
    "product=pd.DataFrame()\n",
    "product['Brand']=brand\n",
    "product['Descrip']=descrip\n",
    "product['Price']=price\n",
    "product"
   ]
  },
  {
   "cell_type": "markdown",
   "id": "d44d869f",
   "metadata": {},
   "source": [
    "* Question 7- Python program to scrape data for “Data Scientist” Job position in “Bangalore” location’"
   ]
  },
  {
   "cell_type": "code",
   "execution_count": 118,
   "id": "b714659b",
   "metadata": {},
   "outputs": [],
   "source": [
    "url='https://www.myntra.com/shoes'\n",
    "driver.get(url)"
   ]
  },
  {
   "cell_type": "code",
   "execution_count": 121,
   "id": "d358ea52",
   "metadata": {},
   "outputs": [],
   "source": [
    "price_check=driver.find_element_by_xpath('/html/body/div[2]/div/div[1]/main/div[3]/div[1]/section/div/div[5]/ul/li[2]/label/div')\n",
    "price_check.click()"
   ]
  },
  {
   "cell_type": "code",
   "execution_count": 120,
   "id": "3eafe62b",
   "metadata": {},
   "outputs": [],
   "source": [
    "color_check=driver.find_element_by_xpath('/html/body/div[2]/div/div[1]/main/div[3]/div[1]/section/div/div[6]/ul/li[1]/label/div')\n",
    "color_check.click()"
   ]
  },
  {
   "cell_type": "code",
   "execution_count": 122,
   "id": "1eb47580",
   "metadata": {},
   "outputs": [],
   "source": [
    "brand=[]\n",
    "descrip=[]\n",
    "price=[]\n",
    "brand_tag=driver.find_elements_by_xpath('//h3[@class=\"product-brand\"]')\n",
    "descrip_tag=driver.find_elements_by_xpath('//h4[@class=\"product-product\"]')\n",
    "price_tag=driver.find_elements_by_xpath('//div[@class=\"product-price\"]')\n",
    "for i in brand_tag:\n",
    "    brand.append(i.text)\n",
    "for i in descrip_tag:\n",
    "    descrip.append(i.text)\n",
    "for i in price_tag:\n",
    "    price.append(i.text)\n",
    "# got to next page\n",
    "next_page=driver.find_element_by_xpath('/html/body/div[2]/div/div[1]/main/div[3]/div[2]/div/div[2]/section/div[2]/ul/li[12]/a')\n",
    "next_page.click()"
   ]
  },
  {
   "cell_type": "code",
   "execution_count": 123,
   "id": "58f4f5b8",
   "metadata": {},
   "outputs": [
    {
     "data": {
      "text/plain": [
       "50"
      ]
     },
     "execution_count": 123,
     "metadata": {},
     "output_type": "execute_result"
    }
   ],
   "source": [
    "len(brand)"
   ]
  },
  {
   "cell_type": "code",
   "execution_count": 109,
   "id": "75574dcd",
   "metadata": {},
   "outputs": [
    {
     "data": {
      "text/plain": [
       "50"
      ]
     },
     "execution_count": 109,
     "metadata": {},
     "output_type": "execute_result"
    }
   ],
   "source": [
    "len(descrip)"
   ]
  },
  {
   "cell_type": "code",
   "execution_count": 112,
   "id": "0039b5c1",
   "metadata": {},
   "outputs": [
    {
     "data": {
      "text/plain": [
       "50"
      ]
     },
     "execution_count": 112,
     "metadata": {},
     "output_type": "execute_result"
    }
   ],
   "source": [
    "len(price)"
   ]
  },
  {
   "cell_type": "code",
   "execution_count": 124,
   "id": "5486c848",
   "metadata": {},
   "outputs": [],
   "source": [
    "brand_tag=driver.find_elements_by_xpath('//h3[@class=\"product-brand\"]')\n",
    "descrip_tag=driver.find_elements_by_xpath('//h4[@class=\"product-product\"]')\n",
    "price_tag=driver.find_elements_by_xpath('//div[@class=\"product-price\"]')\n",
    "for i in brand_tag:\n",
    "    brand.append(i.text)\n",
    "for i in descrip_tag:\n",
    "    descrip.append(i.text)\n",
    "for i in price_tag:\n",
    "    price.append(i.text)"
   ]
  },
  {
   "cell_type": "code",
   "execution_count": 125,
   "id": "d89a8ce9",
   "metadata": {},
   "outputs": [
    {
     "data": {
      "text/plain": [
       "100"
      ]
     },
     "execution_count": 125,
     "metadata": {},
     "output_type": "execute_result"
    }
   ],
   "source": [
    "len(brand)"
   ]
  },
  {
   "cell_type": "code",
   "execution_count": 126,
   "id": "04a05765",
   "metadata": {},
   "outputs": [
    {
     "data": {
      "text/plain": [
       "100"
      ]
     },
     "execution_count": 126,
     "metadata": {},
     "output_type": "execute_result"
    }
   ],
   "source": [
    "len(descrip)"
   ]
  },
  {
   "cell_type": "code",
   "execution_count": 127,
   "id": "22377107",
   "metadata": {},
   "outputs": [
    {
     "data": {
      "text/plain": [
       "100"
      ]
     },
     "execution_count": 127,
     "metadata": {},
     "output_type": "execute_result"
    }
   ],
   "source": [
    "len(price)"
   ]
  },
  {
   "cell_type": "code",
   "execution_count": 128,
   "id": "5c96bfdc",
   "metadata": {},
   "outputs": [
    {
     "data": {
      "text/html": [
       "<div>\n",
       "<style scoped>\n",
       "    .dataframe tbody tr th:only-of-type {\n",
       "        vertical-align: middle;\n",
       "    }\n",
       "\n",
       "    .dataframe tbody tr th {\n",
       "        vertical-align: top;\n",
       "    }\n",
       "\n",
       "    .dataframe thead th {\n",
       "        text-align: right;\n",
       "    }\n",
       "</style>\n",
       "<table border=\"1\" class=\"dataframe\">\n",
       "  <thead>\n",
       "    <tr style=\"text-align: right;\">\n",
       "      <th></th>\n",
       "      <th>Brand</th>\n",
       "      <th>Descrip</th>\n",
       "      <th>Price</th>\n",
       "    </tr>\n",
       "  </thead>\n",
       "  <tbody>\n",
       "    <tr>\n",
       "      <th>0</th>\n",
       "      <td>Puma</td>\n",
       "      <td>Men Running Shoes</td>\n",
       "      <td>Rs. 7149Rs. 12999(45% OFF)</td>\n",
       "    </tr>\n",
       "    <tr>\n",
       "      <th>1</th>\n",
       "      <td>Saint G</td>\n",
       "      <td>Men Mid-Top Chelsea Boots</td>\n",
       "      <td>Rs. 9265Rs. 10900(15% OFF)</td>\n",
       "    </tr>\n",
       "    <tr>\n",
       "      <th>2</th>\n",
       "      <td>Puma</td>\n",
       "      <td>Men Magnify Nitro Running</td>\n",
       "      <td>Rs. 7799Rs. 12999(40% OFF)</td>\n",
       "    </tr>\n",
       "    <tr>\n",
       "      <th>3</th>\n",
       "      <td>Bugatti</td>\n",
       "      <td>Men Running Shoes</td>\n",
       "      <td>Rs. 7999Rs. 9999(20% OFF)</td>\n",
       "    </tr>\n",
       "    <tr>\n",
       "      <th>4</th>\n",
       "      <td>Bugatti</td>\n",
       "      <td>Men Black Walking Shoes</td>\n",
       "      <td>Rs. 7199Rs. 8999(20% OFF)</td>\n",
       "    </tr>\n",
       "    <tr>\n",
       "      <th>...</th>\n",
       "      <td>...</td>\n",
       "      <td>...</td>\n",
       "      <td>...</td>\n",
       "    </tr>\n",
       "    <tr>\n",
       "      <th>95</th>\n",
       "      <td>ALDO</td>\n",
       "      <td>Men Sneakers</td>\n",
       "      <td>Rs. 9999</td>\n",
       "    </tr>\n",
       "    <tr>\n",
       "      <th>96</th>\n",
       "      <td>J.FONTINI</td>\n",
       "      <td>Men Solid Loafers</td>\n",
       "      <td>Rs. 8990</td>\n",
       "    </tr>\n",
       "    <tr>\n",
       "      <th>97</th>\n",
       "      <td>Columbia</td>\n",
       "      <td>PEAKFREAK XCRSN Trekking Shoe</td>\n",
       "      <td>Rs. 9999</td>\n",
       "    </tr>\n",
       "    <tr>\n",
       "      <th>98</th>\n",
       "      <td>UNDER ARMOUR</td>\n",
       "      <td>Women HOVR Sonic 4 Running</td>\n",
       "      <td>Rs. 7699Rs. 10999(30% OFF)</td>\n",
       "    </tr>\n",
       "    <tr>\n",
       "      <th>99</th>\n",
       "      <td>Geox</td>\n",
       "      <td>Men Leather Formal Derbys</td>\n",
       "      <td>Rs. 8399Rs. 11999(30% OFF)</td>\n",
       "    </tr>\n",
       "  </tbody>\n",
       "</table>\n",
       "<p>100 rows × 3 columns</p>\n",
       "</div>"
      ],
      "text/plain": [
       "           Brand                        Descrip                       Price\n",
       "0           Puma              Men Running Shoes  Rs. 7149Rs. 12999(45% OFF)\n",
       "1        Saint G      Men Mid-Top Chelsea Boots  Rs. 9265Rs. 10900(15% OFF)\n",
       "2           Puma      Men Magnify Nitro Running  Rs. 7799Rs. 12999(40% OFF)\n",
       "3        Bugatti              Men Running Shoes   Rs. 7999Rs. 9999(20% OFF)\n",
       "4        Bugatti        Men Black Walking Shoes   Rs. 7199Rs. 8999(20% OFF)\n",
       "..           ...                            ...                         ...\n",
       "95          ALDO                   Men Sneakers                    Rs. 9999\n",
       "96     J.FONTINI              Men Solid Loafers                    Rs. 8990\n",
       "97      Columbia  PEAKFREAK XCRSN Trekking Shoe                    Rs. 9999\n",
       "98  UNDER ARMOUR     Women HOVR Sonic 4 Running  Rs. 7699Rs. 10999(30% OFF)\n",
       "99          Geox      Men Leather Formal Derbys  Rs. 8399Rs. 11999(30% OFF)\n",
       "\n",
       "[100 rows x 3 columns]"
      ]
     },
     "execution_count": 128,
     "metadata": {},
     "output_type": "execute_result"
    }
   ],
   "source": [
    "product=pd.DataFrame()\n",
    "product['Brand']=brand\n",
    "product['Descrip']=descrip\n",
    "product['Price']=price\n",
    "product"
   ]
  },
  {
   "cell_type": "markdown",
   "id": "9d2eec94",
   "metadata": {},
   "source": [
    "* Question 8- Go to webpage https://www.amazon.in/ \n",
    "Enter “Laptop” in the search field and then click the search icon. \n",
    "Then set CPU Type filter to “Intel Core i7” and “Intel Core i9” as shown in the below image: "
   ]
  },
  {
   "cell_type": "code",
   "execution_count": 151,
   "id": "1ea24d65",
   "metadata": {},
   "outputs": [],
   "source": [
    "# Opening the website in the link\n",
    "url='https://www.amazon.in/'\n",
    "driver.get(url)"
   ]
  },
  {
   "cell_type": "code",
   "execution_count": 152,
   "id": "01d42b0c",
   "metadata": {},
   "outputs": [],
   "source": [
    "#finding web element \n",
    "search_box = driver.find_element_by_xpath('/html/body/div[1]/header/div/div[1]/div[2]/div/form/div[2]/div[1]/input')\n",
    "search_box.send_keys('laptop')"
   ]
  },
  {
   "cell_type": "code",
   "execution_count": 153,
   "id": "c5f15bec",
   "metadata": {},
   "outputs": [],
   "source": [
    "#click to search the product\n",
    "search_btn = driver.find_element_by_xpath('/html/body/div[1]/header/div/div[1]/div[2]/div/form/div[3]/div/span/input')\n",
    "search_btn.click()"
   ]
  },
  {
   "cell_type": "code",
   "execution_count": 161,
   "id": "95102775",
   "metadata": {},
   "outputs": [],
   "source": [
    "# i9_link = driver.find_element_by_xpath('/html/body/div[1]/div[2]/div[1]/div[2]/div/div[3]/span/div[1]/span/div/div/div[6]/ul[3]/li[12]/span/a')\n",
    "# i9_link.click()\n",
    "i7_link = driver.find_element_by_xpath('/html/body/div[1]/div[2]/div[1]/div[2]/div/div[3]/span/div[1]/span/div/div/div[6]/ul[3]/li[11]/span/a/div/label/i')\n",
    "i7_link.click()"
   ]
  },
  {
   "cell_type": "code",
   "execution_count": 162,
   "id": "59daaad6",
   "metadata": {},
   "outputs": [
    {
     "data": {
      "text/html": [
       "<div>\n",
       "<style scoped>\n",
       "    .dataframe tbody tr th:only-of-type {\n",
       "        vertical-align: middle;\n",
       "    }\n",
       "\n",
       "    .dataframe tbody tr th {\n",
       "        vertical-align: top;\n",
       "    }\n",
       "\n",
       "    .dataframe thead th {\n",
       "        text-align: right;\n",
       "    }\n",
       "</style>\n",
       "<table border=\"1\" class=\"dataframe\">\n",
       "  <thead>\n",
       "    <tr style=\"text-align: right;\">\n",
       "      <th></th>\n",
       "      <th>Title</th>\n",
       "      <th>Rating</th>\n",
       "      <th>Price</th>\n",
       "    </tr>\n",
       "  </thead>\n",
       "  <tbody>\n",
       "    <tr>\n",
       "      <th>0</th>\n",
       "      <td>Fujitsu UH-X 11th Gen Intel i7 Core 13.3” (33....</td>\n",
       "      <td>4.4 out of 5 stars</td>\n",
       "      <td>87,490</td>\n",
       "    </tr>\n",
       "    <tr>\n",
       "      <th>1</th>\n",
       "      <td>Dell 14 (2021) i7-1195G7 2in1 Touch Screen Lap...</td>\n",
       "      <td>4.7 out of 5 stars</td>\n",
       "      <td>95,700</td>\n",
       "    </tr>\n",
       "    <tr>\n",
       "      <th>2</th>\n",
       "      <td>Mi Notebook Horizon Edition 14 Intel Core i7-1...</td>\n",
       "      <td>4.2 out of 5 stars</td>\n",
       "      <td>49,990</td>\n",
       "    </tr>\n",
       "    <tr>\n",
       "      <th>3</th>\n",
       "      <td>LG Gram 17-inches Ultra-Light Intel Evo 11th G...</td>\n",
       "      <td>4.6 out of 5 stars</td>\n",
       "      <td>94,999</td>\n",
       "    </tr>\n",
       "    <tr>\n",
       "      <th>4</th>\n",
       "      <td>Lenovo ThinkBook 13s Intel 11th Gen Core i7 13...</td>\n",
       "      <td>4.3 out of 5 stars</td>\n",
       "      <td>79,990</td>\n",
       "    </tr>\n",
       "    <tr>\n",
       "      <th>5</th>\n",
       "      <td>ASUS VivoBook 14 (2021), 14-inch (35.56 cms) F...</td>\n",
       "      <td>5.0 out of 5 stars</td>\n",
       "      <td>59,990</td>\n",
       "    </tr>\n",
       "    <tr>\n",
       "      <th>6</th>\n",
       "      <td>ASUS TUF Dash F15 (2021), 15.6-inch (39.62 cms...</td>\n",
       "      <td>4.3 out of 5 stars</td>\n",
       "      <td>84,990</td>\n",
       "    </tr>\n",
       "    <tr>\n",
       "      <th>7</th>\n",
       "      <td>Acer Nitro 5 AN515-57 Gaming Laptop | Intel Co...</td>\n",
       "      <td>4.4 out of 5 stars</td>\n",
       "      <td>89,490</td>\n",
       "    </tr>\n",
       "    <tr>\n",
       "      <th>8</th>\n",
       "      <td>ASUS TUF Dash F15 (2021), 15.6\" (39.62 cms) FH...</td>\n",
       "      <td>4.4 out of 5 stars</td>\n",
       "      <td>90,990</td>\n",
       "    </tr>\n",
       "    <tr>\n",
       "      <th>9</th>\n",
       "      <td>MSI GF75 Thin Gaming, Intel i7-10750H, 17.3\" (...</td>\n",
       "      <td>4.4 out of 5 stars</td>\n",
       "      <td>69,990</td>\n",
       "    </tr>\n",
       "  </tbody>\n",
       "</table>\n",
       "</div>"
      ],
      "text/plain": [
       "                                               Title              Rating  \\\n",
       "0  Fujitsu UH-X 11th Gen Intel i7 Core 13.3” (33....  4.4 out of 5 stars   \n",
       "1  Dell 14 (2021) i7-1195G7 2in1 Touch Screen Lap...  4.7 out of 5 stars   \n",
       "2  Mi Notebook Horizon Edition 14 Intel Core i7-1...  4.2 out of 5 stars   \n",
       "3  LG Gram 17-inches Ultra-Light Intel Evo 11th G...  4.6 out of 5 stars   \n",
       "4  Lenovo ThinkBook 13s Intel 11th Gen Core i7 13...  4.3 out of 5 stars   \n",
       "5  ASUS VivoBook 14 (2021), 14-inch (35.56 cms) F...  5.0 out of 5 stars   \n",
       "6  ASUS TUF Dash F15 (2021), 15.6-inch (39.62 cms...  4.3 out of 5 stars   \n",
       "7  Acer Nitro 5 AN515-57 Gaming Laptop | Intel Co...  4.4 out of 5 stars   \n",
       "8  ASUS TUF Dash F15 (2021), 15.6\" (39.62 cms) FH...  4.4 out of 5 stars   \n",
       "9  MSI GF75 Thin Gaming, Intel i7-10750H, 17.3\" (...  4.4 out of 5 stars   \n",
       "\n",
       "    Price  \n",
       "0  87,490  \n",
       "1  95,700  \n",
       "2  49,990  \n",
       "3  94,999  \n",
       "4  79,990  \n",
       "5  59,990  \n",
       "6  84,990  \n",
       "7  89,490  \n",
       "8  90,990  \n",
       "9  69,990  "
      ]
     },
     "execution_count": 162,
     "metadata": {},
     "output_type": "execute_result"
    }
   ],
   "source": [
    "ttl_tags    = driver.find_elements_by_xpath('//span[@class=\"a-size-medium a-color-base a-text-normal\"]')\n",
    "rating_tags = driver.find_elements_by_xpath('//a[@class=\"a-popover-trigger a-declarative\"]/i[1]/span')\n",
    "price_tags  = driver.find_elements_by_xpath('//span[@class=\"a-price-whole\"]')\n",
    "titles  = []\n",
    "ratings = []\n",
    "prices  = []\n",
    "\n",
    "numcount=0\n",
    "for i in ttl_tags:\n",
    "    numcount+=1\n",
    "    if numcount>10:\n",
    "        break\n",
    "    titles.append(i.text) \n",
    "\n",
    "numcount=0\n",
    "for i in rating_tags:\n",
    "    numcount+=1\n",
    "    if numcount>10:\n",
    "        break\n",
    "    ratings.append(i.get_attribute(\"innerHTML\"))\n",
    "#ratings\n",
    "\n",
    "numcount=0\n",
    "for i in price_tags:\n",
    "    numcount+=1\n",
    "    if numcount>10:\n",
    "        break\n",
    "    prices.append(i.text)\n",
    "df = pd.DataFrame()\n",
    "df['Title'] = titles\n",
    "df['Rating'] = ratings\n",
    "df['Price'] = prices\n",
    "df"
   ]
  },
  {
   "cell_type": "markdown",
   "id": "5614db88",
   "metadata": {},
   "source": [
    "* Question 9-  Write a python program to scrape data for first 10 job results for Data Scientist Designation in Noida \n",
    "location. You have to scrape company name, No. of days ago when job was posted, Rating of the company. \n",
    "This task will be done in following steps: "
   ]
  },
  {
   "cell_type": "code",
   "execution_count": 144,
   "id": "1d1bc245",
   "metadata": {},
   "outputs": [],
   "source": [
    "# Opening the website in the link\n",
    "url = 'http://www.ambitionbox.com/'\n",
    "driver.get(url)"
   ]
  },
  {
   "cell_type": "code",
   "execution_count": 145,
   "id": "79d04193",
   "metadata": {},
   "outputs": [],
   "source": [
    "jobs_link = driver.find_element_by_xpath('/html/body/div[1]/nav/nav/a[6]')\n",
    "jobs_link.click()"
   ]
  },
  {
   "cell_type": "code",
   "execution_count": 146,
   "id": "16801bfc",
   "metadata": {},
   "outputs": [],
   "source": [
    "input_box = driver.find_element_by_xpath('/html/body/div/div/div/div[2]/div[1]/div/div/div/div/span/input')\n",
    "input_box.send_keys('Data Scientist')"
   ]
  },
  {
   "cell_type": "code",
   "execution_count": 147,
   "id": "d1dcb1a3",
   "metadata": {},
   "outputs": [],
   "source": [
    "search_btn = driver.find_element_by_xpath('/html/body/div/div/div/div[2]/div[1]/div/div/div/button')\n",
    "search_btn.click()"
   ]
  },
  {
   "cell_type": "code",
   "execution_count": 148,
   "id": "e03ccf22",
   "metadata": {},
   "outputs": [],
   "source": [
    "location_btn = driver.find_element_by_xpath('/html/body/div/div/div/div[2]/div[2]/div[1]/div/div/div/div[2]/div[1]/p')\n",
    "location_btn.click()"
   ]
  },
  {
   "cell_type": "code",
   "execution_count": 149,
   "id": "0abe244c",
   "metadata": {},
   "outputs": [],
   "source": [
    "search_loc = driver.find_element_by_xpath('//label[@for=\"location_Noida\"]')\n",
    "search_loc.click()"
   ]
  },
  {
   "cell_type": "code",
   "execution_count": 150,
   "id": "1a86882c",
   "metadata": {},
   "outputs": [
    {
     "data": {
      "text/html": [
       "<div>\n",
       "<style scoped>\n",
       "    .dataframe tbody tr th:only-of-type {\n",
       "        vertical-align: middle;\n",
       "    }\n",
       "\n",
       "    .dataframe tbody tr th {\n",
       "        vertical-align: top;\n",
       "    }\n",
       "\n",
       "    .dataframe thead th {\n",
       "        text-align: right;\n",
       "    }\n",
       "</style>\n",
       "<table border=\"1\" class=\"dataframe\">\n",
       "  <thead>\n",
       "    <tr style=\"text-align: right;\">\n",
       "      <th></th>\n",
       "      <th>Company</th>\n",
       "      <th>Days</th>\n",
       "      <th>Rating</th>\n",
       "    </tr>\n",
       "  </thead>\n",
       "  <tbody>\n",
       "    <tr>\n",
       "      <th>0</th>\n",
       "      <td>HCL - Data Scientist - NLP/Python (2-6 yrs)</td>\n",
       "      <td>4d ago</td>\n",
       "      <td>3.8</td>\n",
       "    </tr>\n",
       "    <tr>\n",
       "      <th>1</th>\n",
       "      <td>Data Scientist</td>\n",
       "      <td>4d ago</td>\n",
       "      <td>3.9</td>\n",
       "    </tr>\n",
       "    <tr>\n",
       "      <th>2</th>\n",
       "      <td>Manager Data Scientist</td>\n",
       "      <td>6d ago</td>\n",
       "      <td>4.0</td>\n",
       "    </tr>\n",
       "    <tr>\n",
       "      <th>3</th>\n",
       "      <td>Data Scientist - Machine Learning (5-14 yrs)</td>\n",
       "      <td>1d ago</td>\n",
       "      <td>4.1</td>\n",
       "    </tr>\n",
       "    <tr>\n",
       "      <th>4</th>\n",
       "      <td>Vice President - Data Science</td>\n",
       "      <td>12d ago</td>\n",
       "      <td>3.7</td>\n",
       "    </tr>\n",
       "    <tr>\n",
       "      <th>5</th>\n",
       "      <td>CogniTensor - Data Scientist (2-5 yrs)</td>\n",
       "      <td>13d ago</td>\n",
       "      <td>3.8</td>\n",
       "    </tr>\n",
       "    <tr>\n",
       "      <th>6</th>\n",
       "      <td>CogniTensor - Data Scientist (2-5 yrs)</td>\n",
       "      <td>14d ago</td>\n",
       "      <td>3.8</td>\n",
       "    </tr>\n",
       "    <tr>\n",
       "      <th>7</th>\n",
       "      <td>Data Scientist - Data Science/Model Developmen...</td>\n",
       "      <td>25d ago</td>\n",
       "      <td>4.1</td>\n",
       "    </tr>\n",
       "    <tr>\n",
       "      <th>8</th>\n",
       "      <td>Manager - Data Scientist - Retail/BFSI (8-15 yrs)</td>\n",
       "      <td>25d ago</td>\n",
       "      <td>4.1</td>\n",
       "    </tr>\n",
       "    <tr>\n",
       "      <th>9</th>\n",
       "      <td>Data Scientist - Consulting Firm (8-15 yrs)</td>\n",
       "      <td>25d ago</td>\n",
       "      <td>4.1</td>\n",
       "    </tr>\n",
       "  </tbody>\n",
       "</table>\n",
       "</div>"
      ],
      "text/plain": [
       "                                             Company     Days Rating\n",
       "0        HCL - Data Scientist - NLP/Python (2-6 yrs)   4d ago    3.8\n",
       "1                                     Data Scientist   4d ago    3.9\n",
       "2                             Manager Data Scientist   6d ago    4.0\n",
       "3       Data Scientist - Machine Learning (5-14 yrs)   1d ago    4.1\n",
       "4                      Vice President - Data Science  12d ago    3.7\n",
       "5             CogniTensor - Data Scientist (2-5 yrs)  13d ago    3.8\n",
       "6             CogniTensor - Data Scientist (2-5 yrs)  14d ago    3.8\n",
       "7  Data Scientist - Data Science/Model Developmen...  25d ago    4.1\n",
       "8  Manager - Data Scientist - Retail/BFSI (8-15 yrs)  25d ago    4.1\n",
       "9        Data Scientist - Consulting Firm (8-15 yrs)  25d ago    4.1"
      ]
     },
     "execution_count": 150,
     "metadata": {},
     "output_type": "execute_result"
    }
   ],
   "source": [
    "comp_tags =  driver.find_elements_by_xpath('//a[@class=\"title noclick\"]')\n",
    "days_tag =  driver.find_elements_by_xpath('//span[@class=\"body-small-l\"][1]')\n",
    "rating_tags = driver.find_elements_by_xpath('//span[@class=\"body-small\"]')\n",
    "#len(comp_tags)\n",
    "comps = []\n",
    "days = []\n",
    "ratings = []\n",
    "for i in comp_tags:\n",
    "    comps.append(i.text)\n",
    "for i in days_tag:\n",
    "    days.append(i.text)\n",
    "for i in rating_tags:\n",
    "    ratings.append(i.text)\n",
    "\n",
    "df = pd.DataFrame()\n",
    "df['Company']= comps\n",
    "df['Days']= days\n",
    "df['Rating']= ratings\n",
    "df"
   ]
  },
  {
   "cell_type": "markdown",
   "id": "fa97c3c7",
   "metadata": {},
   "source": [
    "* Question 10- Write a python program to scrape the salary data for Data Scientist designation. \n",
    "You have to scrape Company name, Number of salaries, Average salary, Minsalary, Max Salary. "
   ]
  },
  {
   "cell_type": "code",
   "execution_count": 139,
   "id": "7700ad66",
   "metadata": {},
   "outputs": [],
   "source": [
    "# Opening the website in the link\n",
    "from selenium.webdriver.common.keys import Keys\n",
    "url = 'http://www.ambitionbox.com/'\n",
    "driver.get(url)"
   ]
  },
  {
   "cell_type": "code",
   "execution_count": 140,
   "id": "dad8ac7e",
   "metadata": {},
   "outputs": [],
   "source": [
    "search_salary_btn = driver.find_element_by_xpath('/html/body/div[1]/nav/nav/a[4]')\n",
    "search_salary_btn.click()"
   ]
  },
  {
   "cell_type": "code",
   "execution_count": 141,
   "id": "4635467b",
   "metadata": {},
   "outputs": [],
   "source": [
    "search_product = driver.find_element_by_xpath('/html/body/div/div/div/main/section[1]/div[2]/div[1]/span/input')\n",
    "search_product.send_keys('Data Scientist')"
   ]
  },
  {
   "cell_type": "code",
   "execution_count": 142,
   "id": "e0b34796",
   "metadata": {},
   "outputs": [],
   "source": [
    "#'/html/body/div/div/div/main/section[1]/div[2]/div[1]/span/div/div/div[1]/div/div/p'\n",
    "data_scientist_option = driver.find_element_by_xpath('/html/body/div/div/div/main/section[1]/div[2]/div[1]/span/input') \n",
    "data_scientist_option.send_keys(Keys.DOWN)\n",
    "data_scientist_option.send_keys(Keys.ENTER)"
   ]
  },
  {
   "cell_type": "code",
   "execution_count": 143,
   "id": "4aa9b7f7",
   "metadata": {},
   "outputs": [
    {
     "data": {
      "text/html": [
       "<div>\n",
       "<style scoped>\n",
       "    .dataframe tbody tr th:only-of-type {\n",
       "        vertical-align: middle;\n",
       "    }\n",
       "\n",
       "    .dataframe tbody tr th {\n",
       "        vertical-align: top;\n",
       "    }\n",
       "\n",
       "    .dataframe thead th {\n",
       "        text-align: right;\n",
       "    }\n",
       "</style>\n",
       "<table border=\"1\" class=\"dataframe\">\n",
       "  <thead>\n",
       "    <tr style=\"text-align: right;\">\n",
       "      <th></th>\n",
       "      <th>Company</th>\n",
       "      <th>Avg. Sal</th>\n",
       "      <th>Max. Sal</th>\n",
       "      <th>Min. Sal</th>\n",
       "      <th>Experience</th>\n",
       "    </tr>\n",
       "  </thead>\n",
       "  <tbody>\n",
       "    <tr>\n",
       "      <th>0</th>\n",
       "      <td>Walmart</td>\n",
       "      <td>₹ 28.7L</td>\n",
       "      <td>₹ 35.0L</td>\n",
       "      <td>₹ 17.7L</td>\n",
       "      <td>3 yrs exp</td>\n",
       "    </tr>\n",
       "    <tr>\n",
       "      <th>1</th>\n",
       "      <td>Ab Inbev</td>\n",
       "      <td>₹ 19.5L</td>\n",
       "      <td>₹ 25.0L</td>\n",
       "      <td>₹ 15.0L</td>\n",
       "      <td>3-4 yrs exp</td>\n",
       "    </tr>\n",
       "    <tr>\n",
       "      <th>2</th>\n",
       "      <td>ZS</td>\n",
       "      <td>₹ 15.8L</td>\n",
       "      <td>₹ 20.0L</td>\n",
       "      <td>₹ 9.8L</td>\n",
       "      <td>2 yrs exp</td>\n",
       "    </tr>\n",
       "    <tr>\n",
       "      <th>3</th>\n",
       "      <td>Fractal Analytics</td>\n",
       "      <td>₹ 15.0L</td>\n",
       "      <td>₹ 22.0L</td>\n",
       "      <td>₹ 9.5L</td>\n",
       "      <td>2-4 yrs exp</td>\n",
       "    </tr>\n",
       "    <tr>\n",
       "      <th>4</th>\n",
       "      <td>Optum</td>\n",
       "      <td>₹ 15.0L</td>\n",
       "      <td>₹ 21.3L</td>\n",
       "      <td>₹ 11.0L</td>\n",
       "      <td>3-4 yrs exp</td>\n",
       "    </tr>\n",
       "    <tr>\n",
       "      <th>5</th>\n",
       "      <td>UnitedHealth</td>\n",
       "      <td>₹ 13.5L</td>\n",
       "      <td>₹ 20.5L</td>\n",
       "      <td>₹ 7.2L</td>\n",
       "      <td>2-4 yrs exp</td>\n",
       "    </tr>\n",
       "    <tr>\n",
       "      <th>6</th>\n",
       "      <td>Tiger Analytics</td>\n",
       "      <td>₹ 13.5L</td>\n",
       "      <td>₹ 18.5L</td>\n",
       "      <td>₹ 8.3L</td>\n",
       "      <td>3-4 yrs exp</td>\n",
       "    </tr>\n",
       "    <tr>\n",
       "      <th>7</th>\n",
       "      <td>Verizon</td>\n",
       "      <td>₹ 12.7L</td>\n",
       "      <td>₹ 21.0L</td>\n",
       "      <td>₹ 10.0L</td>\n",
       "      <td>4 yrs exp</td>\n",
       "    </tr>\n",
       "    <tr>\n",
       "      <th>8</th>\n",
       "      <td>Ganit Business Solutions</td>\n",
       "      <td>₹ 12.4L</td>\n",
       "      <td>₹ 15.0L</td>\n",
       "      <td>₹ 8.5L</td>\n",
       "      <td>4 yrs exp</td>\n",
       "    </tr>\n",
       "    <tr>\n",
       "      <th>9</th>\n",
       "      <td>Ericsson</td>\n",
       "      <td>₹ 11.9L</td>\n",
       "      <td>₹ 21.5L</td>\n",
       "      <td>₹ 5.8L</td>\n",
       "      <td>3-4 yrs exp</td>\n",
       "    </tr>\n",
       "  </tbody>\n",
       "</table>\n",
       "</div>"
      ],
      "text/plain": [
       "                    Company Avg. Sal Max. Sal Min. Sal   Experience\n",
       "0                   Walmart  ₹ 28.7L  ₹ 35.0L  ₹ 17.7L    3 yrs exp\n",
       "1                  Ab Inbev  ₹ 19.5L  ₹ 25.0L  ₹ 15.0L  3-4 yrs exp\n",
       "2                        ZS  ₹ 15.8L  ₹ 20.0L   ₹ 9.8L    2 yrs exp\n",
       "3         Fractal Analytics  ₹ 15.0L  ₹ 22.0L   ₹ 9.5L  2-4 yrs exp\n",
       "4                     Optum  ₹ 15.0L  ₹ 21.3L  ₹ 11.0L  3-4 yrs exp\n",
       "5              UnitedHealth  ₹ 13.5L  ₹ 20.5L   ₹ 7.2L  2-4 yrs exp\n",
       "6           Tiger Analytics  ₹ 13.5L  ₹ 18.5L   ₹ 8.3L  3-4 yrs exp\n",
       "7                   Verizon  ₹ 12.7L  ₹ 21.0L  ₹ 10.0L    4 yrs exp\n",
       "8  Ganit Business Solutions  ₹ 12.4L  ₹ 15.0L   ₹ 8.5L    4 yrs exp\n",
       "9                  Ericsson  ₹ 11.9L  ₹ 21.5L   ₹ 5.8L  3-4 yrs exp"
      ]
     },
     "execution_count": 143,
     "metadata": {},
     "output_type": "execute_result"
    }
   ],
   "source": [
    "comps = []\n",
    "avg_sals = []\n",
    "comp_tags = driver.find_elements_by_xpath('//div[@class=\"company-info\"]/div/a')\n",
    "for i in comp_tags:\n",
    "    comps.append(i.text)\n",
    "#comps\n",
    "avg_sal_tags = driver.find_elements_by_xpath( '//p[@class=\"averageCtc\"]')\n",
    "for i in avg_sal_tags:\n",
    "    avg_sals.append(i.text)\n",
    "#print(avg_sals)\n",
    "\n",
    "min_sals = []\n",
    "max_sals = []\n",
    "min_sal_tags = driver.find_elements_by_xpath('//div[@class=\"salary-values\"]/div[1]')\n",
    "max_sal_tags = driver.find_elements_by_xpath('//div[@class=\"salary-values\"]/div[2]')\n",
    "for i in min_sal_tags:\n",
    "    min_sals.append(i.text)\n",
    "#print(min_sals)\n",
    "for i in max_sal_tags:\n",
    "    max_sals.append(i.text)\n",
    "#print(max_sals)\n",
    "\n",
    "exps = []\n",
    "exp_tags = driver.find_elements_by_xpath('//div[@class=\"salaries sbold-list-header\"]')\n",
    "for i in exp_tags:\n",
    "    exps.append(i.text.replace('Data Scientist\\n . \\n','')) # get_attribute(\"innerHTML\"))\n",
    "#print(exps)\n",
    "df = pd.DataFrame()\n",
    "df['Company'] = comps\n",
    "df['Avg. Sal'] = avg_sals\n",
    "df['Max. Sal'] = max_sals\n",
    "df['Min. Sal'] = min_sals\n",
    "df['Experience'] = exps\n",
    "df"
   ]
  },
  {
   "cell_type": "code",
   "execution_count": null,
   "id": "e941c61e",
   "metadata": {},
   "outputs": [],
   "source": []
  }
 ],
 "metadata": {
  "kernelspec": {
   "display_name": "Python 3",
   "language": "python",
   "name": "python3"
  },
  "language_info": {
   "codemirror_mode": {
    "name": "ipython",
    "version": 3
   },
   "file_extension": ".py",
   "mimetype": "text/x-python",
   "name": "python",
   "nbconvert_exporter": "python",
   "pygments_lexer": "ipython3",
   "version": "3.8.8"
  }
 },
 "nbformat": 4,
 "nbformat_minor": 5
}
